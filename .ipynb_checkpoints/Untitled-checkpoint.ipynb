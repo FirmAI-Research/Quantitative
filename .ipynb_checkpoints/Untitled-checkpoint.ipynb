{
 "cells": [
  {
   "cell_type": "code",
   "execution_count": 1,
   "metadata": {},
   "outputs": [],
   "source": [
    "import os.path  # To manage paths\n",
    "import sys  # To find out the script name (in argv[0])\n",
    "from datetime import datetime\n",
    "from time import sleep, strftime, localtime  \n",
    "from ib.ext.Contract import Contract\n",
    "from ib.ext.Order import Order\n",
    "from ib.opt import Connection, message\n",
    "import pandas as pd\n",
    "import backtrader as bt\n",
    "import pytz, tzlocal\n",
    "from bs4 import BeautifulSoup\n",
    "import re\n",
    "import numpy as np"
   ]
  },
  {
   "cell_type": "code",
   "execution_count": null,
   "metadata": {},
   "outputs": [],
   "source": [
    "contract = Contract()\n",
    "contract.symbol = 'AAPL'\n",
    "contract.secType = ''\n",
    "contract.exchange = 'SMART'\n",
    "contract.primaryExchange = 'NASDAQ'\n",
    "contract.currency = curr\n",
    "\n",
    "order = Order()\n",
    "order.OrderType = order_type\n",
    "order.TotalQuantity = quantity\n",
    "order.action = action\n",
    "\n",
    "               \n",
    "\n",
    "    \n"
   ]
  },
  {
   "cell_type": "code",
   "execution_count": null,
   "metadata": {},
   "outputs": [],
   "source": [
    "app = TestApp()\n",
    "app.connect('127.0.0.1', 7497, 0)"
   ]
  },
  {
   "cell_type": "code",
   "execution_count": null,
   "metadata": {},
   "outputs": [],
   "source": [
    "    app.placeOrder(id = orderId,\n",
    "                   contract = contract, \n",
    "                   order = order)\n",
    "\n",
    "    app.run()\n",
    "    sleep(5)"
   ]
  },
  {
   "cell_type": "code",
   "execution_count": null,
   "metadata": {},
   "outputs": [],
   "source": []
  },
  {
   "cell_type": "code",
   "execution_count": null,
   "metadata": {},
   "outputs": [],
   "source": []
  }
 ],
 "metadata": {
  "kernelspec": {
   "display_name": "Python 3",
   "language": "python",
   "name": "python3"
  },
  "language_info": {
   "codemirror_mode": {
    "name": "ipython",
    "version": 3
   },
   "file_extension": ".py",
   "mimetype": "text/x-python",
   "name": "python",
   "nbconvert_exporter": "python",
   "pygments_lexer": "ipython3",
   "version": "3.6.8"
  }
 },
 "nbformat": 4,
 "nbformat_minor": 2
}
