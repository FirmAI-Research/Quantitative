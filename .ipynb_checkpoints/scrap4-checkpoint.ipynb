{
 "cells": [
  {
   "cell_type": "code",
   "execution_count": 25,
   "metadata": {},
   "outputs": [],
   "source": [
    "import os.path  # To manage paths\n",
    "import sys  # To find out the script name (in argv[0])\n",
    "from datetime import datetime\n",
    "from time import sleep, strftime, localtime  \n",
    "from ib.ext.Contract import Contract\n",
    "from ib.ext.Order import Order\n",
    "from ib.opt import Connection, message\n",
    "import pandas as pd\n",
    "import backtrader as bt\n",
    "import pytz, tzlocal\n",
    "from bs4 import BeautifulSoup\n",
    "import re\n",
    "import numpy as np"
   ]
  },
  {
   "cell_type": "code",
   "execution_count": 1,
   "metadata": {},
   "outputs": [
    {
     "ename": "NameError",
     "evalue": "name 'BeautifulSoup' is not defined",
     "output_type": "error",
     "traceback": [
      "\u001b[0;31m---------------------------------------------------------------------------\u001b[0m",
      "\u001b[0;31mNameError\u001b[0m                                 Traceback (most recent call last)",
      "\u001b[0;32m<ipython-input-1-fea2d95637e3>\u001b[0m in \u001b[0;36m<module>\u001b[0;34m\u001b[0m\n\u001b[1;32m      1\u001b[0m \u001b[0mhandler\u001b[0m \u001b[0;34m=\u001b[0m \u001b[0mopen\u001b[0m\u001b[0;34m(\u001b[0m\u001b[0;34m'over.txt'\u001b[0m\u001b[0;34m)\u001b[0m\u001b[0;34m.\u001b[0m\u001b[0mread\u001b[0m\u001b[0;34m(\u001b[0m\u001b[0;34m)\u001b[0m\u001b[0;34m\u001b[0m\u001b[0;34m\u001b[0m\u001b[0m\n\u001b[0;32m----> 2\u001b[0;31m \u001b[0mparser\u001b[0m \u001b[0;34m=\u001b[0m \u001b[0mBeautifulSoup\u001b[0m\u001b[0;34m(\u001b[0m\u001b[0mhandler\u001b[0m\u001b[0;34m,\u001b[0m \u001b[0;34m'lxml'\u001b[0m\u001b[0;34m)\u001b[0m\u001b[0;34m\u001b[0m\u001b[0;34m\u001b[0m\u001b[0m\n\u001b[0m",
      "\u001b[0;31mNameError\u001b[0m: name 'BeautifulSoup' is not defined"
     ]
    }
   ],
   "source": [
    "handler = open('over.txt').read()\n",
    "parser = BeautifulSoup(handler, 'lxml')"
   ]
  },
  {
   "cell_type": "code",
   "execution_count": 27,
   "metadata": {},
   "outputs": [
    {
     "data": {
      "text/plain": [
       "<html><body><p>'<?xml version=\"1.0\" encoding=\"UTF-8\"?>\\r\\n<reportsnapshot major=\"1\" minor=\"0\" revision=\"1\">\\r\\n\\t<coids>\\r\\n\\t\\t<coid type=\"RepNo\">A038A</coid>\\r\\n\\t\\t<coid type=\"CompanyName\">Cryolife Inc</coid>\\r\\n\\t\\t<coid type=\"IRSNo\">592417093</coid>\\r\\n\\t\\t<coid type=\"CIKNo\">0000784199</coid>\\r\\n\\t</coids>\\r\\n\\t<issues>\\r\\n\\t\\t<issue desc=\"Common Stock\" id=\"1\" order=\"1\" type=\"C\">\\r\\n\\t\\t\\t<issueid type=\"Name\">Ordinary Shares</issueid>\\r\\n\\t\\t\\t<issueid type=\"Ticker\">CRY</issueid>\\r\\n\\t\\t\\t<issueid type=\"CUSIP\">228903100</issueid>\\r\\n\\t\\t\\t<issueid type=\"ISIN\">US2289031005</issueid>\\r\\n\\t\\t\\t<issueid type=\"RIC\">CRY</issueid>\\r\\n\\t\\t\\t<issueid type=\"SEDOL\">2239017</issueid>\\r\\n\\t\\t\\t<issueid type=\"DisplayRIC\">CRY.N</issueid>\\r\\n\\t\\t\\t<issueid type=\"InstrumentPI\">319068</issueid>\\r\\n\\t\\t\\t<issueid type=\"QuotePI\">1094717</issueid>\\r\\n\\t\\t\\t<exchange code=\"NYSE\" country=\"USA\">New York Stock Exchange</exchange>\\r\\n\\t\\t\\t<mostrecentsplit date=\"2000-12-28\">1.5</mostrecentsplit>\\r\\n\\t\\t</issue>\\r\\n\\t\\t<issue desc=\"Preferred Stock\" id=\"2\" order=\"1\" type=\"P\">\\r\\n\\t\\t\\t<issueid type=\"Name\">Preference Shares</issueid>\\r\\n\\t\\t\\t<issueid type=\"Ticker\">CRY PR</issueid>\\r\\n\\t\\t\\t<issueid type=\"CUSIP\">228903209</issueid>\\r\\n\\t\\t\\t<issueid type=\"ISIN\">US2289032094</issueid>\\r\\n\\t\\t\\t<issueid type=\"RIC\">CRY_p.N^F07</issueid>\\r\\n\\t\\t\\t<issueid type=\"InstrumentPI\">19911813</issueid>\\r\\n\\t\\t\\t<issueid type=\"QuotePI\">19914377</issueid>\\r\\n\\t\\t\\t<exchange code=\"NYSE\" country=\"USA\">New York Stock Exchange</exchange>\\r\\n\\t\\t</issue>\\r\\n\\t</issues>\\r\\n\\t<cogeneralinfo>\\r\\n\\t\\t<costatus code=\"1\">Active</costatus>\\r\\n\\t\\t<cotype code=\"EQU\">Equity Issue</cotype>\\r\\n\\t\\t<lastmodified>2019-09-19</lastmodified>\\r\\n\\t\\t<latestavailableannual>2018-12-31</latestavailableannual>\\r\\n\\t\\t<latestavailableinterim>2019-06-30</latestavailableinterim>\\r\\n\\t\\t<employees lastupdated=\"2018-12-31\">1100</employees>\\r\\n\\t\\t<sharesout date=\"2019-07-18\" totalfloat=\"36044803.0\">37495602.0</sharesout>\\r\\n\\t\\t<commonshareholders date=\"2018-12-31\">232</commonshareholders>\\r\\n\\t\\t<reportingcurrency code=\"USD\">U.S. Dollars</reportingcurrency>\\r\\n\\t\\t<mostrecentexchange date=\"2019-10-04\">1.0</mostrecentexchange>\\r\\n\\t</cogeneralinfo>\\r\\n\\t<textinfo>\\r\\n\\t\\t<text lastmodified=\"2017-03-06T22:00:34\" type=\"Business Summary\">CryoLife, Inc. (CryoLife) is a medical device manufacturer and processor, and is engaged in the distribution of medical devices and implantable human tissues used in cardiac surgical procedures. The Company operates through two segments: Medical Devices and Preservation Services. The Medical Devices segment includes medical devices, such as BioGlue Surgical Adhesive, BioFoam Surgical Matrix, On-X Life Technologies Holdings, Inc. valves and surgical products, CardioGenesis cardiac laser therapy product line, PerClot and PhotoFix. PhotoFix is a pericardial patch stabilized using a dye-mediated photo-fixation process that requires no glutaraldehyde. The Preservation Services segment includes external services, such as preservation of cardiac and vascular tissues. The cardiac and vascular human tissues distributed by CryoLife include the CryoValve SG pulmonary heart valve and the CryoPatch SG pulmonary cardiac patch, both of which are processed using CryoLife\\'s SynerGraft technology.</text>\\r\\n\\t\\t<text lastmodified=\"2019-09-19T07:36:48\" type=\"Financial Summary\">BRIEF: For the six months ended 30 June 2019, Cryolife Inc revenues increased 6% to $138.6M. Net income applicable to common stockholders totaled $2.5M vs. loss of $3.6M. Revenues reflect Medical Devices segment increase from $49.3M to $99.6M, Preservation services segment increase from $19.2M to $39.1M. Net Income reflects Other (income) expense, net decrease of 80% to $262K (expense), General, administrative.</text>\\r\\n\\t</textinfo>\\r\\n\\t<contactinfo lastupdated=\"2019-09-19T07:37:18\">\\r\\n\\t\\t<streetaddress line=\"1\">1655 Roberts Blvd NW</streetaddress>\\r\\n\\t\\t<streetaddress line=\"2\"></streetaddress>\\r\\n\\t\\t<streetaddress line=\"3\"></streetaddress>\\r\\n\\t\\t<city>KENNESAW</city>\\r\\n\\t\\t<state-region>GA</state-region>\\r\\n\\t\\t<postalcode>30144-3632</postalcode>\\r\\n\\t\\t<country code=\"USA\">United States</country>\\r\\n\\t\\t<contactname>Greg Chodaczek</contactname>\\r\\n\\t\\t<contacttitle>IR Contact Officer</contacttitle>\\r\\n\\t\\t<phone>\\r\\n\\t\\t\\t<phone type=\"mainphone\">\\r\\n\\t\\t\\t\\t<countryphonecode>1</countryphonecode>\\r\\n\\t\\t\\t\\t<city-areacode>770</city-areacode>\\r\\n\\t\\t\\t\\t<number>4193355</number>\\r\\n\\t\\t\\t</phone>\\r\\n\\t\\t\\t<phone type=\"mainfax\">\\r\\n\\t\\t\\t\\t<countryphonecode>1</countryphonecode>\\r\\n\\t\\t\\t\\t<city-areacode>770</city-areacode>\\r\\n\\t\\t\\t\\t<number>4260031</number>\\r\\n\\t\\t\\t</phone>\\r\\n\\t\\t\\t<phone type=\"contactphone\">\\r\\n\\t\\t\\t\\t<countryphonecode>1</countryphonecode>\\r\\n\\t\\t\\t\\t<city-areacode>646</city-areacode>\\r\\n\\t\\t\\t\\t<number>9241769</number>\\r\\n\\t\\t\\t</phone>\\r\\n\\t\\t</phone>\\r\\n\\t</contactinfo>\\r\\n\\t<weblinks lastupdated=\"2012-06-04T06:43:55\"><website maincategory=\"Home Page\">http://www.cryolife.com</website><email maincategory=\"Company Contact/E-mail\">investors@cryolife.com</email></weblinks>\\r\\n\\t<peerinfo lastupdated=\"2019-09-19T07:37:18\">\\r\\n\\t\\t<industryinfo>\\r\\n\\t\\t\\t<industry code=\"5610102010\" mnem=\"\" order=\"1\" reported=\"0\" type=\"TRBC\">Medical Equipment, Supplies &amp; Distribution - NEC</industry>\\r\\n\\t\\t\\t<industry code=\"339112\" mnem=\"\" order=\"1\" reported=\"0\" type=\"NAICS\">Surgical and Medical Instrument Manufacturing</industry>\\r\\n\\t\\t\\t<industry code=\"339113\" mnem=\"\" order=\"2\" reported=\"0\" type=\"NAICS\">Surgical Appliance and Supplies Manufacturing</industry>\\r\\n\\t\\t\\t<industry code=\"3841\" mnem=\"\" order=\"0\" reported=\"1\" type=\"SIC\">Surgical And Medical Instruments</industry>\\r\\n\\t\\t\\t<industry code=\"3841\" mnem=\"\" order=\"1\" reported=\"0\" type=\"SIC\">Surgical And Medical Instruments</industry>\\r\\n\\t\\t\\t<industry code=\"3842\" mnem=\"\" order=\"2\" reported=\"0\" type=\"SIC\">Surgical Appliances And Supplies</industry>\\r\\n\\t\\t</industryinfo>\\r\\n\\t\\t<indexconstituet>S&amp;P 600 Small Cap</indexconstituet>\\r\\n\\t</peerinfo>\\r\\n\\t<officers>\\r\\n\\t\\t<officer rank=\"1\" since=\"09/02/2014\">\\r\\n\\t\\t\\t<firstname>James</firstname>\\r\\n\\t\\t\\t<mi>Patrick</mi>\\r\\n\\t\\t\\t<lastname>Mackin</lastname>\\r\\n\\t\\t\\t<age>52 </age>\\r\\n\\t\\t\\t<title abbr1=\"Chmn.\" abbr2=\"Pres.\" id1=\"CHM\" id2=\"PRE\" startday=\"10\" startmonth=\"04\" startyear=\"2015\">Chairman of the Board, President, Chief Executive Officer, Director</title>\\r\\n\\t\\t</officer>\\r\\n\\t\\t<officer rank=\"2\" since=\"12/1994\">\\r\\n\\t\\t\\t<firstname>D. Ashley</firstname>\\r\\n\\t\\t\\t<mi></mi>\\r\\n\\t\\t\\t<lastname>Lee</lastname>\\r\\n\\t\\t\\t<age>54 </age>\\r\\n\\t\\t\\t<title abbr1=\"CFO\" abbr2=\"COO\" id1=\"CFO\" id2=\"COO\" startday=\"03\" startmonth=\"11\" startyear=\"2004\">Chief Financial Officer, Chief Operating Officer, Executive Vice President</title>\\r\\n\\t\\t</officer>\\r\\n\\t\\t<officer rank=\"3\" since=\"2015\">\\r\\n\\t\\t\\t<firstname>Jean</firstname>\\r\\n\\t\\t\\t<mi>F.</mi>\\r\\n\\t\\t\\t<lastname>Holloway</lastname>\\r\\n\\t\\t\\t<age>61 </age>\\r\\n\\t\\t\\t<title abbr1=\"Sr. VP\" abbr2=\"Chief Comp.\" id1=\"SVP\" id2=\"CCO\" startday=\"\" startmonth=\"01\" startyear=\"2016\">Senior Vice President, Chief Compliance Officer, General Counsel, Secretary</title>\\r\\n\\t\\t</officer>\\r\\n\\t\\t<officer rank=\"4\" since=\"09/08/2015\">\\r\\n\\t\\t\\t<firstname>John</firstname>\\r\\n\\t\\t\\t<mi>E.</mi>\\r\\n\\t\\t\\t<lastname>Davis</lastname>\\r\\n\\t\\t\\t<age>54 </age>\\r\\n\\t\\t\\t<title abbr1=\"Sr. VP\" abbr2=\"Dir.-Sales\" id1=\"SVP\" id2=\"DSL\" startday=\"08\" startmonth=\"09\" startyear=\"2015\">Senior Vice President - Global Sales and Marketing</title>\\r\\n\\t\\t</officer>\\r\\n\\t\\t<officer rank=\"5\" since=\"12/2018\">\\r\\n\\t\\t\\t<firstname>Michael</firstname>\\r\\n\\t\\t\\t<mi>S.</mi>\\r\\n\\t\\t\\t<lastname>Simpson</lastname>\\r\\n\\t\\t\\t<age>51 </age>\\r\\n\\t\\t\\t<title abbr1=\"Sr. VP\" abbr2=\"\" id1=\"SVP\" id2=\"\" startday=\"\" startmonth=\"12\" startyear=\"2018\">Senior Vice President, Regulatory Affairs and Quality Assurance</title>\\r\\n\\t\\t</officer>\\r\\n\\t\\t<officer rank=\"6\" since=\"08/07/2006\">\\r\\n\\t\\t\\t<firstname>Amy</firstname>\\r\\n\\t\\t\\t<mi>D.</mi>\\r\\n\\t\\t\\t<lastname>Horton</lastname>\\r\\n\\t\\t\\t<age>47 </age>\\r\\n\\t\\t\\t<title abbr1=\"CAO\" abbr2=\"VP\" id1=\"CAO\" id2=\"VPR\" startday=\"\" startmonth=\"01\" startyear=\"2016\">Chief Accounting Officer, Vice President</title>\\r\\n\\t\\t</officer>\\r\\n\\t\\t<officer rank=\"7\" since=\"11/2007\">\\r\\n\\t\\t\\t<firstname>Scott</firstname>\\r\\n\\t\\t\\t<mi>B.</mi>\\r\\n\\t\\t\\t<lastname>Capps</lastname>\\r\\n\\t\\t\\t<age>52 </age>\\r\\n\\t\\t\\t<title abbr1=\"VP\" abbr2=\"\" id1=\"VPR\" id2=\"\" startday=\"\" startmonth=\"11\" startyear=\"2007\">Vice President - Clinical Research</title>\\r\\n\\t\\t</officer>\\r\\n\\t</officers>\\r\\n\\t<ratios exchangerate=\"1.00000\" latestavailabledate=\"2019-06-30\" pricecurrency=\"USD\" reportingcurrency=\"USD\">\\r\\n\\t\\t<group id=\"Price and Volume\">\\r\\n\\t\\t\\t<ratio fieldname=\"NPRICE\" type=\"N\">24.40000</ratio>\\r\\n\\t\\t\\t<ratio fieldname=\"NHIG\" type=\"N\">33.78000</ratio>\\r\\n\\t\\t\\t<ratio fieldname=\"NLOW\" type=\"N\">23.94000</ratio>\\r\\n\\t\\t\\t<ratio fieldname=\"PDATE\" type=\"D\">2019-10-07T00:00:00</ratio>\\r\\n\\t\\t\\t<ratio fieldname=\"VOL10DAVG\" type=\"N\">0.24871</ratio>\\r\\n\\t\\t\\t<ratio fieldname=\"EV\" type=\"N\">1091.32270</ratio>\\r\\n\\t\\t</group>\\r\\n\\t\\t<group id=\"Income Statement\">\\r\\n\\t\\t\\t<ratio fieldname=\"MKTCAP\" type=\"N\">914.89270</ratio>\\r\\n\\t\\t\\t<ratio fieldname=\"TTMREV\" type=\"N\">271.04100</ratio>\\r\\n\\t\\t\\t<ratio fieldname=\"TTMEBITD\" type=\"N\">33.82500</ratio>\\r\\n\\t\\t\\t<ratio fieldname=\"TTMNIAC\" type=\"N\">3.06100</ratio>\\r\\n\\t\\t</group>\\r\\n\\t\\t<group id=\"Per share data\">\\r\\n\\t\\t\\t<ratio fieldname=\"TTMEPSXCLX\" type=\"N\">0.08009</ratio>\\r\\n\\t\\t\\t<ratio fieldname=\"TTMREVPS\" type=\"N\">7.28208</ratio>\\r\\n\\t\\t\\t<ratio fieldname=\"QBVPS\" type=\"N\">7.53232</ratio>\\r\\n\\t\\t\\t<ratio fieldname=\"QCSHPS\" type=\"N\">1.06108</ratio>\\r\\n\\t\\t\\t<ratio fieldname=\"TTMCFSHR\" type=\"N\">0.55902</ratio>\\r\\n\\t\\t\\t<ratio fieldname=\"TTMDIVSHR\" type=\"N\">0.00000</ratio>\\r\\n\\t\\t</group>\\r\\n\\t\\t<group id=\"Other Ratios\">\\r\\n\\t\\t\\t<ratio fieldname=\"TTMGROSMGN\" type=\"N\">66.09480</ratio>\\r\\n\\t\\t\\t<ratio fieldname=\"TTMROEPCT\" type=\"N\">1.10577</ratio>\\r\\n\\t\\t\\t<ratio fieldname=\"TTMPR2REV\" type=\"N\">3.37548</ratio>\\r\\n\\t\\t\\t<ratio fieldname=\"PEEXCLXOR\" type=\"N\">304.65730</ratio>\\r\\n\\t\\t\\t<ratio fieldname=\"PRICE2BK\" type=\"N\">3.23938</ratio>\\r\\n\\t\\t\\t<ratio fieldname=\"Employees\" type=\"N\">1100</ratio>\\r\\n\\t\\t</group>\\r\\n\\t</ratios>\\r\\n\\t<forecastdata consensustype=\"Mean\" curfiscalyear=\"2019\" curfiscalyearendmonth=\"12\" curinterimendcalyear=\"2019\" curinterimendmonth=\"9\" earningsbasis=\"PRX\">\\r\\n\\t\\t<ratio fieldname=\"ConsRecom\" type=\"N\">\\r\\n\\t\\t\\t<value periodtype=\"CURR\">1.6667</value>\\r\\n\\t\\t</ratio>\\r\\n\\t\\t<ratio fieldname=\"TargetPrice\" type=\"N\">\\r\\n\\t\\t\\t<value periodtype=\"CURR\">36.10000</value>\\r\\n\\t\\t</ratio>\\r\\n\\t\\t<ratio fieldname=\"ProjLTGrowthRate\" type=\"N\">\\r\\n\\t\\t\\t<value periodtype=\"CURR\">-99999.99000</value>\\r\\n\\t\\t</ratio>\\r\\n\\t\\t<ratio fieldname=\"ProjPE\" type=\"N\">\\r\\n\\t\\t\\t<value periodtype=\"CURR\">82.01681</value>\\r\\n\\t\\t</ratio>\\r\\n\\t\\t<ratio fieldname=\"ProjSales\" type=\"N\">\\r\\n\\t\\t\\t<value periodtype=\"CURR\">281.33400</value>\\r\\n\\t\\t</ratio>\\r\\n\\t\\t<ratio fieldname=\"ProjSalesQ\" type=\"N\">\\r\\n\\t\\t\\t<value periodtype=\"CURR\">68.29000</value>\\r\\n\\t\\t</ratio>\\r\\n\\t\\t<ratio fieldname=\"ProjEPS\" type=\"N\">\\r\\n\\t\\t\\t<value periodtype=\"CURR\">0.29750</value>\\r\\n\\t\\t</ratio>\\r\\n\\t\\t<ratio fieldname=\"ProjEPSQ\" type=\"N\">\\r\\n\\t\\t\\t<value periodtype=\"CURR\">0.05500</value>\\r\\n\\t\\t</ratio>\\r\\n\\t\\t<ratio fieldname=\"ProjProfit\" type=\"N\">\\r\\n\\t\\t\\t<value periodtype=\"CURR\">11.40000</value>\\r\\n\\t\\t</ratio>\\r\\n\\t\\t<ratio fieldname=\"ProjDPS\" type=\"N\">\\r\\n\\t\\t\\t<value periodtype=\"CURR\">-99999.99000</value>\\r\\n\\t\\t</ratio>\\r\\n\\t</forecastdata>\\r\\n</reportsnapshot>\\r\\n'\n",
       "\n",
       "</p></body></html>"
      ]
     },
     "execution_count": 27,
     "metadata": {},
     "output_type": "execute_result"
    }
   ],
   "source": [
    "parser"
   ]
  },
  {
   "cell_type": "code",
   "execution_count": 34,
   "metadata": {},
   "outputs": [
    {
     "data": {
      "text/plain": [
       "\"CryoLife, Inc. (CryoLife) is a medical device manufacturer and processor, and is engaged in the distribution of medical devices and implantable human tissues used in cardiac surgical procedures. The Company operates through two segments: Medical Devices and Preservation Services. The Medical Devices segment includes medical devices, such as BioGlue Surgical Adhesive, BioFoam Surgical Matrix, On-X Life Technologies Holdings, Inc. valves and surgical products, CardioGenesis cardiac laser therapy product line, PerClot and PhotoFix. PhotoFix is a pericardial patch stabilized using a dye-mediated photo-fixation process that requires no glutaraldehyde. The Preservation Services segment includes external services, such as preservation of cardiac and vascular tissues. The cardiac and vascular human tissues distributed by CryoLife include the CryoValve SG pulmonary heart valve and the CryoPatch SG pulmonary cardiac patch, both of which are processed using CryoLife\\\\'s SynerGraft technology.\""
      ]
     },
     "execution_count": 34,
     "metadata": {},
     "output_type": "execute_result"
    }
   ],
   "source": [
    "parser.findAll('text')[0].text"
   ]
  },
  {
   "cell_type": "code",
   "execution_count": 35,
   "metadata": {},
   "outputs": [
    {
     "data": {
      "text/plain": [
       "'BRIEF: For the six months ended 30 June 2019, Cryolife Inc revenues increased 6% to $138.6M. Net income applicable to common stockholders totaled $2.5M vs. loss of $3.6M. Revenues reflect Medical Devices segment increase from $49.3M to $99.6M, Preservation services segment increase from $19.2M to $39.1M. Net Income reflects Other (income) expense, net decrease of 80% to $262K (expense), General, administrative.'"
      ]
     },
     "execution_count": 35,
     "metadata": {},
     "output_type": "execute_result"
    }
   ],
   "source": [
    "parser.findAll('text')[1].text"
   ]
  },
  {
   "cell_type": "code",
   "execution_count": 51,
   "metadata": {},
   "outputs": [
    {
     "data": {
      "text/html": [
       "<div>\n",
       "<style scoped>\n",
       "    .dataframe tbody tr th:only-of-type {\n",
       "        vertical-align: middle;\n",
       "    }\n",
       "\n",
       "    .dataframe tbody tr th {\n",
       "        vertical-align: top;\n",
       "    }\n",
       "\n",
       "    .dataframe thead th {\n",
       "        text-align: right;\n",
       "    }\n",
       "</style>\n",
       "<table border=\"1\" class=\"dataframe\">\n",
       "  <thead>\n",
       "    <tr style=\"text-align: right;\">\n",
       "      <th></th>\n",
       "      <th>City</th>\n",
       "      <th>Country</th>\n",
       "      <th>State</th>\n",
       "      <th>Street Address</th>\n",
       "    </tr>\n",
       "  </thead>\n",
       "  <tbody>\n",
       "    <tr>\n",
       "      <th>Cryolife Inc</th>\n",
       "      <td>KENNESAW</td>\n",
       "      <td>United States</td>\n",
       "      <td>GA</td>\n",
       "      <td>1655 Roberts Blvd NW</td>\n",
       "    </tr>\n",
       "  </tbody>\n",
       "</table>\n",
       "</div>"
      ],
      "text/plain": [
       "                  City        Country State        Street Address\n",
       "Cryolife Inc  KENNESAW  United States    GA  1655 Roberts Blvd NW"
      ]
     },
     "execution_count": 51,
     "metadata": {},
     "output_type": "execute_result"
    }
   ],
   "source": [
    "pd.DataFrame(index = [parser.findAll('coid')[1].text],\n",
    "             data ={'Street Address':parser.find('contactinfo').find('streetaddress').text,\n",
    "                                'City': parser.find('contactinfo').find('city').text,\n",
    "                                'State': parser.find('contactinfo').find('state-region').text,\n",
    "                                'Country': parser.find('contactinfo').find('country').text,\n",
    "                                'Company Type':parser.find('contactinfo').find('country').text})\n",
    " "
   ]
  },
  {
   "cell_type": "code",
   "execution_count": 42,
   "metadata": {},
   "outputs": [
    {
     "data": {
      "text/plain": [
       "'United States'"
      ]
     },
     "execution_count": 42,
     "metadata": {},
     "output_type": "execute_result"
    }
   ],
   "source": [
    "parser.find('contactinfo').find('country').text"
   ]
  },
  {
   "cell_type": "code",
   "execution_count": 47,
   "metadata": {},
   "outputs": [
    {
     "data": {
      "text/plain": [
       "'Cryolife Inc'"
      ]
     },
     "execution_count": 47,
     "metadata": {},
     "output_type": "execute_result"
    }
   ],
   "source": [
    "parser.find('cotype').text"
   ]
  },
  {
   "cell_type": "code",
   "execution_count": null,
   "metadata": {},
   "outputs": [],
   "source": []
  }
 ],
 "metadata": {
  "kernelspec": {
   "display_name": "Python 3",
   "language": "python",
   "name": "python3"
  },
  "language_info": {
   "codemirror_mode": {
    "name": "ipython",
    "version": 3
   },
   "file_extension": ".py",
   "mimetype": "text/x-python",
   "name": "python",
   "nbconvert_exporter": "python",
   "pygments_lexer": "ipython3",
   "version": "3.6.8"
  }
 },
 "nbformat": 4,
 "nbformat_minor": 2
}
