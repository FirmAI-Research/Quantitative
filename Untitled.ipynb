{
 "cells": [
  {
   "cell_type": "code",
   "execution_count": 1,
   "metadata": {},
   "outputs": [],
   "source": [
    "from ibapi.client import EClient\n",
    "from ibapi.wrapper import EWrapper\n",
    "from ibapi.contract import Contract\n",
    "from ibapi.order import Order\n",
    "from ibapi.scanner import ScannerSubscription\n",
    "from ibapi.ticktype import TickTypeEnum\n",
    "from ibapi.common import * #for TickerId type\n",
    "\n",
    "import pandas as pd\n",
    "import numpy as np\n",
    "from bs4 import BeautifulSoup\n",
    "from datetime import datetime\n",
    "from time import sleep, strftime, localtime \n",
    "from socket import error as SocketError\n",
    "import errno"
   ]
  },
  {
   "cell_type": "code",
   "execution_count": 2,
   "metadata": {},
   "outputs": [],
   "source": [
    "contract = Contract()\n",
    "contract.symbol = 'AAPL'\n",
    "contract.secType = 'STK'\n",
    "contract.exchange = 'SMART'\n",
    "contract.primaryExchange = 'NASDAQ'\n",
    "contract.currency = 'USD'\n",
    "\n",
    "order = Order()\n",
    "order.OrderType = 'MKT'\n",
    "order.TotalQuantity = 10\n",
    "order.action = 'BUY'"
   ]
  },
  {
   "cell_type": "code",
   "execution_count": 3,
   "metadata": {},
   "outputs": [],
   "source": [
    "class TestApp(EWrapper, EClient):\n",
    "\n",
    "    def __init__(self):\n",
    "        EClient.__init__(self,self)\n",
    "\n",
    "\n",
    "    def error(self, reqId:TickerId, errorCode:int, errorString:str):\n",
    "        if reqId > -1:\n",
    "            print(\"Error. Id: \" , reqId, \" Code: \" , errorCode , \" Msg: \" , errorString)\n"
   ]
  },
  {
   "cell_type": "code",
   "execution_count": 4,
   "metadata": {},
   "outputs": [],
   "source": [
    "app = TestApp()\n",
    "app.connect('127.0.0.1', 7497, 0)"
   ]
  },
  {
   "cell_type": "code",
   "execution_count": 6,
   "metadata": {},
   "outputs": [
    {
     "name": "stdout",
     "output_type": "stream",
     "text": [
      "Error. Id:  1  Code:  504  Msg:  Not connected\n"
     ]
    }
   ],
   "source": [
    "app.placeOrder(orderId=1, contract=contract, order=order)\n",
    "\n",
    "app.run()\n",
    "sleep(5)"
   ]
  },
  {
   "cell_type": "code",
   "execution_count": null,
   "metadata": {},
   "outputs": [],
   "source": []
  },
  {
   "cell_type": "code",
   "execution_count": null,
   "metadata": {},
   "outputs": [],
   "source": []
  }
 ],
 "metadata": {
  "kernelspec": {
   "display_name": "Python 3",
   "language": "python",
   "name": "python3"
  },
  "language_info": {
   "codemirror_mode": {
    "name": "ipython",
    "version": 3
   },
   "file_extension": ".py",
   "mimetype": "text/x-python",
   "name": "python",
   "nbconvert_exporter": "python",
   "pygments_lexer": "ipython3",
   "version": "3.6.8"
  }
 },
 "nbformat": 4,
 "nbformat_minor": 2
}
