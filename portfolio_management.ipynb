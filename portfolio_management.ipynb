{
 "cells": [
  {
   "cell_type": "code",
   "execution_count": 1,
   "metadata": {},
   "outputs": [],
   "source": [
    "import matplotlib.pyplot as plt\n",
    "import datetime as datetime\n",
    "import numpy as np\n",
    "import pandas as pd\n",
    "import talib\n",
    "import seaborn as sns\n",
    "from time import time\n",
    "import pytz"
   ]
  },
  {
   "cell_type": "code",
   "execution_count": 2,
   "metadata": {},
   "outputs": [],
   "source": [
    "import risk_model\n",
    "import factorize\n",
    "import account"
   ]
  },
  {
   "cell_type": "code",
   "execution_count": 3,
   "metadata": {},
   "outputs": [
    {
     "name": "stdout",
     "output_type": "stream",
     "text": [
      "[['DU1440139']\n",
      " ['U2909804']]\n"
     ]
    }
   ],
   "source": [
    "availabe_accounts = pd.read_csv('account_ids.txt',header=None)\n",
    "print (availabe_accounts.values)"
   ]
  },
  {
   "cell_type": "code",
   "execution_count": 4,
   "metadata": {},
   "outputs": [],
   "source": [
    "account_number = availabe_accounts.values[0][0]"
   ]
  },
  {
   "cell_type": "code",
   "execution_count": 5,
   "metadata": {},
   "outputs": [],
   "source": [
    "rth = False"
   ]
  },
  {
   "cell_type": "code",
   "execution_count": 6,
   "metadata": {},
   "outputs": [],
   "source": [
    "if account_number == availabe_accounts.values[1][0]:\n",
    "\n",
    "    optimal_weights_regularized = pd.read_csv('output/optimal_weights_regularized_sa.csv',index_col = 'asset')\n",
    "    close = pd.read_csv('data/close_sa.csv', index_col = 'date')\n",
    "    \n",
    "elif account_number == availabe_accounts.values[0][0]:\n",
    "    \n",
    "    optimal_weights_regularized = pd.read_csv('output/optimal_weights_regularized.csv',index_col = 'asset')\n",
    "    close = pd.read_csv('data/close.csv', index_col = 'date')"
   ]
  },
  {
   "cell_type": "markdown",
   "metadata": {},
   "source": [
    "# 1 - Portfolio Management"
   ]
  },
  {
   "cell_type": "code",
   "execution_count": 7,
   "metadata": {},
   "outputs": [
    {
     "name": "stdout",
     "output_type": "stream",
     "text": [
      "PositionEnd\n",
      "Reading Portfolio\n"
     ]
    }
   ],
   "source": [
    "portfolio = account.read_positions(subscribe = True, acctCode = account_number)"
   ]
  },
  {
   "cell_type": "code",
   "execution_count": 8,
   "metadata": {},
   "outputs": [
    {
     "name": "stdout",
     "output_type": "stream",
     "text": [
      "AccountDownloadEnd. Account: DU1440139\n",
      "Reading Account\n"
     ]
    }
   ],
   "source": [
    "acc = account.read_account(reqId = 0, subscribe = True, acctCode = account_number)"
   ]
  },
  {
   "cell_type": "code",
   "execution_count": 10,
   "metadata": {},
   "outputs": [],
   "source": [
    "all_weights, long, short, grv = risk_model.portfolio_calculation(portfolio)"
   ]
  },
  {
   "cell_type": "code",
   "execution_count": 11,
   "metadata": {},
   "outputs": [
    {
     "name": "stdout",
     "output_type": "stream",
     "text": [
      "Gross Market Value: 236401.1 $\n",
      " Long Value: 142994.65 $\n",
      " Short Value: -93406.45 $\n",
      " Net Liquidation: 155193.0 $\n",
      " Unrealize PNL: 2696.0 $\n",
      " Loan Value: 81208.0 $\n",
      "#####################################\n",
      "Leverage Value: 1.5233\n",
      " Long Leverage Value: 0.9214\n",
      " Short Leverage Value: 0.6019\n"
     ]
    }
   ],
   "source": [
    "long_value = long['marketValue'].sum()\n",
    "short_value = short['marketValue'].sum()\n",
    "#print ('Buying Power: {} $'.format(np.round(float(acc.loc['BuyingPower',:].values[0]), 4)))\n",
    "print ('Gross Market Value: {} $'.format(np.round(grv, 4)))\n",
    "print (' Long Value: {} $'.format(np.round(long_value,4)))\n",
    "print (' Short Value: {} $'.format(np.round(short_value,4)))\n",
    "print (' Net Liquidation: {} $'.format(np.round(float(acc.loc['EquityWithLoanValue',:].values[0]),4)))\n",
    "print (' Unrealize PNL: {} $'.format(np.round(portfolio['unrealizedPNL'].sum()),4))\n",
    "print (' Loan Value: {} $'.format(np.round(float(acc.loc['GrossPositionValue'][0]) - float(acc.loc['EquityWithLoanValue'][0]), 4)))\n",
    "print ('#####################################')\n",
    "print ('Leverage Value: {}'.format(np.round(grv/float(acc.loc['EquityWithLoanValue'][0]), 4)))\n",
    "print (' Long Leverage Value: {}'.format(np.round(long_value/float(acc.loc['EquityWithLoanValue'][0]), 4)))\n",
    "print (' Short Leverage Value: {}'.format(np.round(np.abs(short_value)/float(acc.loc['EquityWithLoanValue'][0]), 4)))       "
   ]
  },
  {
   "cell_type": "code",
   "execution_count": 12,
   "metadata": {},
   "outputs": [],
   "source": [
    "universe = portfolio.index\n",
    "long_universe = long.index \n",
    "short_universe = short.index "
   ]
  },
  {
   "cell_type": "code",
   "execution_count": 13,
   "metadata": {},
   "outputs": [],
   "source": [
    "net_liq = np.round(float(acc.loc['EquityWithLoanValue',:].values[0]),4)"
   ]
  },
  {
   "cell_type": "markdown",
   "metadata": {},
   "source": [
    "## Projected portfolio balance"
   ]
  },
  {
   "cell_type": "code",
   "execution_count": 14,
   "metadata": {},
   "outputs": [
    {
     "name": "stdout",
     "output_type": "stream",
     "text": [
      "-3611.600000000006 $\n"
     ]
    }
   ],
   "source": [
    "target_leverage = 1.5\n",
    "grv_target = net_liq * target_leverage\n",
    "excess_grv = grv_target - grv\n",
    "print (excess_grv,'$')\n",
    "marketVal_target = all_weights * grv_target"
   ]
  },
  {
   "cell_type": "code",
   "execution_count": 15,
   "metadata": {},
   "outputs": [],
   "source": [
    "balancing_order = marketVal_target['weights'] - portfolio['marketValue']\n",
    "df_port = portfolio['marketPrice']\n",
    "action_balance = pd.DataFrame(index = df_port.index, columns = ['shares'])\n",
    "action_balance['shares'] = np.round(balancing_order / df_port,2)\n",
    "to_drop = action_balance[action_balance['shares']==0.0].index\n",
    "action_balance.drop(to_drop,axis=0,inplace=True)"
   ]
  },
  {
   "cell_type": "code",
   "execution_count": 16,
   "metadata": {},
   "outputs": [
    {
     "data": {
      "text/plain": [
       "232789.5"
      ]
     },
     "execution_count": 16,
     "metadata": {},
     "output_type": "execute_result"
    }
   ],
   "source": [
    "grv_target"
   ]
  },
  {
   "cell_type": "code",
   "execution_count": 18,
   "metadata": {},
   "outputs": [
    {
     "name": "stdout",
     "output_type": "stream",
     "text": [
      "NextValidId: 1120\n"
     ]
    }
   ],
   "source": [
    "val = account.read_nextvalidid(reqId=-1)"
   ]
  },
  {
   "cell_type": "code",
   "execution_count": null,
   "metadata": {},
   "outputs": [],
   "source": [
    "#account.rebalancing_to_leverage(action_balance = action_balance , order_id = val)"
   ]
  },
  {
   "cell_type": "markdown",
   "metadata": {},
   "source": [
    "## Filtering stocks with significant market value"
   ]
  },
  {
   "cell_type": "code",
   "execution_count": 19,
   "metadata": {},
   "outputs": [],
   "source": [
    "df_c = pd.DataFrame(data=close[optimal_weights_regularized.index].iloc[-1].values,\n",
    "                   index = close[optimal_weights_regularized.index].iloc[-1].index,\n",
    "                   columns = ['close'])\n",
    "df_c.index.name = 'asset'"
   ]
  },
  {
   "cell_type": "code",
   "execution_count": 20,
   "metadata": {},
   "outputs": [],
   "source": [
    "optimal_weights_regularized = optimal_weights_regularized.round(2)"
   ]
  },
  {
   "cell_type": "code",
   "execution_count": 21,
   "metadata": {},
   "outputs": [],
   "source": [
    "# dropping securities with less than 1% allocation \n",
    "optimal_selected = optimal_weights_regularized[optimal_weights_regularized['optimal_weights'] != 0.00]"
   ]
  },
  {
   "cell_type": "code",
   "execution_count": 23,
   "metadata": {},
   "outputs": [
    {
     "name": "stdout",
     "output_type": "stream",
     "text": [
      "##########################################################\n",
      "dropping 0 securities which have less than 1% allocation\n",
      "##########################################################\n"
     ]
    }
   ],
   "source": [
    "print ('##########################################################')\n",
    "print ('dropping {} securities which have less than 1% allocation'.format(len(optimal_weights_regularized[optimal_weights_regularized['optimal_weights'] == 0.00].index)))\n",
    "print ('##########################################################')"
   ]
  },
  {
   "cell_type": "code",
   "execution_count": 22,
   "metadata": {},
   "outputs": [
    {
     "data": {
      "image/png": "[encoded data removed]",
      "text/plain": [
       "<Figure size 1440x1080 with 2 Axes>"
      ]
     },
     "metadata": {
      "needs_background": "light"
     },
     "output_type": "display_data"
    }
   ],
   "source": [
    "fig, axs = plt.subplots(2, 1, figsize=(20, 15))\n",
    "\n",
    "x1 = all_weights.index\n",
    "y1 = all_weights.values.flatten()\n",
    "axs[0].grid(True)\n",
    "axs[0].bar(x1, y1, width = 0.8, linewidth = 1, color='orange')\n",
    "for tick in axs[0].get_xticklabels():\n",
    "    tick.set_rotation(45)\n",
    "axs[0].set_title('actual portfolio')\n",
    "\n",
    "x2 = optimal_selected.index\n",
    "y2 = optimal_selected.values.flatten()\n",
    "axs[1].grid(True,)\n",
    "axs[1].bar(x2, y2, width = 0.8, linewidth = 1, color='green')\n",
    "for tick in axs[1].get_xticklabels():\n",
    "    tick.set_rotation(45)\n",
    "axs[1].set_title('expected balanced portfolio')\n",
    "plt.show()"
   ]
  },
  {
   "cell_type": "markdown",
   "metadata": {},
   "source": [
    "## Processing data for execution"
   ]
  },
  {
   "cell_type": "code",
   "execution_count": 24,
   "metadata": {},
   "outputs": [],
   "source": [
    "stock_to_balance = portfolio.index & optimal_selected.index\n",
    "stock_to_close = portfolio.index ^ stock_to_balance"
   ]
  },
  {
   "cell_type": "code",
   "execution_count": 25,
   "metadata": {},
   "outputs": [],
   "source": [
    "df_c_target = df_c.reindex(optimal_selected.index)\n",
    "shares_target_float = (optimal_selected * grv_target)['optimal_weights']/df_c_target['close']"
   ]
  },
  {
   "cell_type": "code",
   "execution_count": 26,
   "metadata": {},
   "outputs": [],
   "source": [
    "portfolio_shares_float = portfolio['marketValue'] / portfolio['marketPrice']"
   ]
  },
  {
   "cell_type": "code",
   "execution_count": 27,
   "metadata": {},
   "outputs": [],
   "source": [
    "# Rebalance to optimal weights\n",
    "action_final = pd.DataFrame(index = shares_target_float.index, columns = ['shares'])\n",
    "\n",
    "for i in shares_target_float.index:\n",
    "    \n",
    "    if (i in stock_to_balance) and (i not in action_balance.index):\n",
    "        action_final.loc[i,'shares'] = shares_target_float[i] - portfolio_shares_float[i]\n",
    "        \n",
    "    elif (i in stock_to_balance) and (i in action_balance.index):\n",
    "        action_final.loc[i,'shares'] = shares_target_float[i] - (portfolio_shares_float[i] + action_balance['shares'][i])\n",
    "\n",
    "    elif (i in action_balance.index) and (i not in stock_to_balance):\n",
    "        action_final.loc[i,'shares'] = shares_target_float[i] + action_balance['shares'][i]\n",
    "    else:\n",
    "        action_final.loc[i,'shares'] = shares_target_float[i]"
   ]
  },
  {
   "cell_type": "code",
   "execution_count": 28,
   "metadata": {},
   "outputs": [],
   "source": [
    "# rename columns\n",
    "portfolio_shares_float = pd.DataFrame(portfolio_shares_float,columns = ['portfolio_shares'],index=portfolio_shares_float.index)\n",
    "shares_target_float = pd.DataFrame(shares_target_float,columns = ['target_shares_not_balanced'],index=shares_target_float.index)\n",
    "\n",
    "action_balance.columns = ['balance_lev_shares']\n",
    "action_final.columns = ['final_action_shares']"
   ]
  },
  {
   "cell_type": "code",
   "execution_count": 29,
   "metadata": {},
   "outputs": [],
   "source": [
    "# replacing too small actions value with nan value\n",
    "treshold_long = 1\n",
    "treshold_short = -1\n",
    "\n",
    "action_final[(action_final['final_action_shares']>0) & (action_final['final_action_shares']< treshold_long)] = np.nan\n",
    "action_final[(action_final['final_action_shares']<0) & (action_final['final_action_shares']> treshold_short)] = np.nan\n",
    "action_final[action_final['final_action_shares']==0.0] = np.nan\n",
    "action_final.dropna(axis=0,inplace=True)\n",
    "action_final['final_action_shares'] = pd.to_numeric(action_final['final_action_shares'], errors='coerce')"
   ]
  },
  {
   "cell_type": "code",
   "execution_count": 30,
   "metadata": {},
   "outputs": [],
   "source": [
    "action_conc = pd.concat([portfolio_shares_float,\n",
    "                         action_balance,\n",
    "                         shares_target_float,\n",
    "                         action_final],axis=1)"
   ]
  },
  {
   "cell_type": "code",
   "execution_count": 31,
   "metadata": {},
   "outputs": [],
   "source": [
    "isna_df = action_conc.isna()\n",
    "for i in action_conc.index:\n",
    "    if (isna_df.loc[i]['final_action_shares'] == True) & (isna_df.loc[i]['target_shares_not_balanced'] == False) :\n",
    "        action_conc.drop(i, inplace = True)"
   ]
  },
  {
   "cell_type": "code",
   "execution_count": 32,
   "metadata": {
    "scrolled": true
   },
   "outputs": [
    {
     "data": {
      "text/html": [
       "<div>\n",
       "<style scoped>\n",
       "    .dataframe tbody tr th:only-of-type {\n",
       "        vertical-align: middle;\n",
       "    }\n",
       "\n",
       "    .dataframe tbody tr th {\n",
       "        vertical-align: top;\n",
       "    }\n",
       "\n",
       "    .dataframe thead th {\n",
       "        text-align: right;\n",
       "    }\n",
       "</style>\n",
       "<table border=\"1\" class=\"dataframe\">\n",
       "  <thead>\n",
       "    <tr style=\"text-align: right;\">\n",
       "      <th></th>\n",
       "      <th>portfolio_shares</th>\n",
       "      <th>balance_lev_shares</th>\n",
       "      <th>target_shares_not_balanced</th>\n",
       "      <th>final_action_shares</th>\n",
       "    </tr>\n",
       "  </thead>\n",
       "  <tbody>\n",
       "    <tr>\n",
       "      <th>ANSS</th>\n",
       "      <td>104.0</td>\n",
       "      <td>-1.56</td>\n",
       "      <td>NaN</td>\n",
       "      <td>NaN</td>\n",
       "    </tr>\n",
       "    <tr>\n",
       "      <th>AVB</th>\n",
       "      <td>NaN</td>\n",
       "      <td>NaN</td>\n",
       "      <td>92.97</td>\n",
       "      <td>92.97</td>\n",
       "    </tr>\n",
       "    <tr>\n",
       "      <th>AXP</th>\n",
       "      <td>108.0</td>\n",
       "      <td>-1.64</td>\n",
       "      <td>NaN</td>\n",
       "      <td>NaN</td>\n",
       "    </tr>\n",
       "    <tr>\n",
       "      <th>BURL</th>\n",
       "      <td>22.0</td>\n",
       "      <td>-0.28</td>\n",
       "      <td>12.77</td>\n",
       "      <td>-8.95</td>\n",
       "    </tr>\n",
       "    <tr>\n",
       "      <th>CAT</th>\n",
       "      <td>-71.0</td>\n",
       "      <td>1.07</td>\n",
       "      <td>-16.87</td>\n",
       "      <td>53.06</td>\n",
       "    </tr>\n",
       "    <tr>\n",
       "      <th>CHGG</th>\n",
       "      <td>-38.0</td>\n",
       "      <td>0.56</td>\n",
       "      <td>NaN</td>\n",
       "      <td>NaN</td>\n",
       "    </tr>\n",
       "    <tr>\n",
       "      <th>DLR</th>\n",
       "      <td>-32.0</td>\n",
       "      <td>0.49</td>\n",
       "      <td>NaN</td>\n",
       "      <td>NaN</td>\n",
       "    </tr>\n",
       "    <tr>\n",
       "      <th>DTE</th>\n",
       "      <td>-36.0</td>\n",
       "      <td>0.52</td>\n",
       "      <td>-284.31</td>\n",
       "      <td>-248.83</td>\n",
       "    </tr>\n",
       "    <tr>\n",
       "      <th>ENPH</th>\n",
       "      <td>13.0</td>\n",
       "      <td>-0.37</td>\n",
       "      <td>NaN</td>\n",
       "      <td>NaN</td>\n",
       "    </tr>\n",
       "    <tr>\n",
       "      <th>EQR</th>\n",
       "      <td>NaN</td>\n",
       "      <td>NaN</td>\n",
       "      <td>127.77</td>\n",
       "      <td>127.77</td>\n",
       "    </tr>\n",
       "    <tr>\n",
       "      <th>ETFC</th>\n",
       "      <td>-148.0</td>\n",
       "      <td>2.39</td>\n",
       "      <td>NaN</td>\n",
       "      <td>NaN</td>\n",
       "    </tr>\n",
       "    <tr>\n",
       "      <th>EXC</th>\n",
       "      <td>NaN</td>\n",
       "      <td>NaN</td>\n",
       "      <td>-61.31</td>\n",
       "      <td>-61.31</td>\n",
       "    </tr>\n",
       "    <tr>\n",
       "      <th>FDX</th>\n",
       "      <td>NaN</td>\n",
       "      <td>NaN</td>\n",
       "      <td>-13.95</td>\n",
       "      <td>-13.95</td>\n",
       "    </tr>\n",
       "    <tr>\n",
       "      <th>FE</th>\n",
       "      <td>NaN</td>\n",
       "      <td>NaN</td>\n",
       "      <td>1837.39</td>\n",
       "      <td>1837.39</td>\n",
       "    </tr>\n",
       "    <tr>\n",
       "      <th>FISV</th>\n",
       "      <td>NaN</td>\n",
       "      <td>NaN</td>\n",
       "      <td>69.91</td>\n",
       "      <td>69.91</td>\n",
       "    </tr>\n",
       "    <tr>\n",
       "      <th>GIS</th>\n",
       "      <td>-121.0</td>\n",
       "      <td>1.82</td>\n",
       "      <td>NaN</td>\n",
       "      <td>NaN</td>\n",
       "    </tr>\n",
       "    <tr>\n",
       "      <th>GLW</th>\n",
       "      <td>NaN</td>\n",
       "      <td>NaN</td>\n",
       "      <td>-76.98</td>\n",
       "      <td>-76.98</td>\n",
       "    </tr>\n",
       "    <tr>\n",
       "      <th>GS</th>\n",
       "      <td>-49.0</td>\n",
       "      <td>0.80</td>\n",
       "      <td>NaN</td>\n",
       "      <td>NaN</td>\n",
       "    </tr>\n",
       "    <tr>\n",
       "      <th>HAL</th>\n",
       "      <td>NaN</td>\n",
       "      <td>NaN</td>\n",
       "      <td>-158.90</td>\n",
       "      <td>-158.90</td>\n",
       "    </tr>\n",
       "    <tr>\n",
       "      <th>HCA</th>\n",
       "      <td>42.0</td>\n",
       "      <td>-0.73</td>\n",
       "      <td>NaN</td>\n",
       "      <td>NaN</td>\n",
       "    </tr>\n",
       "    <tr>\n",
       "      <th>HLT</th>\n",
       "      <td>NaN</td>\n",
       "      <td>NaN</td>\n",
       "      <td>60.73</td>\n",
       "      <td>60.73</td>\n",
       "    </tr>\n",
       "    <tr>\n",
       "      <th>IBM</th>\n",
       "      <td>79.0</td>\n",
       "      <td>-1.26</td>\n",
       "      <td>NaN</td>\n",
       "      <td>NaN</td>\n",
       "    </tr>\n",
       "    <tr>\n",
       "      <th>ILMN</th>\n",
       "      <td>-16.0</td>\n",
       "      <td>0.24</td>\n",
       "      <td>NaN</td>\n",
       "      <td>NaN</td>\n",
       "    </tr>\n",
       "    <tr>\n",
       "      <th>INTC</th>\n",
       "      <td>NaN</td>\n",
       "      <td>NaN</td>\n",
       "      <td>94.55</td>\n",
       "      <td>94.55</td>\n",
       "    </tr>\n",
       "    <tr>\n",
       "      <th>KMI</th>\n",
       "      <td>NaN</td>\n",
       "      <td>NaN</td>\n",
       "      <td>659.46</td>\n",
       "      <td>659.46</td>\n",
       "    </tr>\n",
       "    <tr>\n",
       "      <th>KO</th>\n",
       "      <td>130.0</td>\n",
       "      <td>-1.81</td>\n",
       "      <td>NaN</td>\n",
       "      <td>NaN</td>\n",
       "    </tr>\n",
       "    <tr>\n",
       "      <th>LOW</th>\n",
       "      <td>-30.0</td>\n",
       "      <td>0.52</td>\n",
       "      <td>-31.52</td>\n",
       "      <td>-2.04</td>\n",
       "    </tr>\n",
       "    <tr>\n",
       "      <th>LVS</th>\n",
       "      <td>NaN</td>\n",
       "      <td>NaN</td>\n",
       "      <td>52.64</td>\n",
       "      <td>52.64</td>\n",
       "    </tr>\n",
       "    <tr>\n",
       "      <th>MDLZ</th>\n",
       "      <td>198.0</td>\n",
       "      <td>-3.00</td>\n",
       "      <td>167.14</td>\n",
       "      <td>-27.86</td>\n",
       "    </tr>\n",
       "    <tr>\n",
       "      <th>MDT</th>\n",
       "      <td>NaN</td>\n",
       "      <td>NaN</td>\n",
       "      <td>48.32</td>\n",
       "      <td>48.32</td>\n",
       "    </tr>\n",
       "    <tr>\n",
       "      <th>MMM</th>\n",
       "      <td>NaN</td>\n",
       "      <td>NaN</td>\n",
       "      <td>-14.99</td>\n",
       "      <td>-14.99</td>\n",
       "    </tr>\n",
       "    <tr>\n",
       "      <th>MNST</th>\n",
       "      <td>NaN</td>\n",
       "      <td>NaN</td>\n",
       "      <td>-30.55</td>\n",
       "      <td>-30.55</td>\n",
       "    </tr>\n",
       "    <tr>\n",
       "      <th>MS</th>\n",
       "      <td>-35.0</td>\n",
       "      <td>0.72</td>\n",
       "      <td>NaN</td>\n",
       "      <td>NaN</td>\n",
       "    </tr>\n",
       "    <tr>\n",
       "      <th>MSI</th>\n",
       "      <td>133.0</td>\n",
       "      <td>-2.09</td>\n",
       "      <td>34.03</td>\n",
       "      <td>-96.88</td>\n",
       "    </tr>\n",
       "    <tr>\n",
       "      <th>NEE</th>\n",
       "      <td>NaN</td>\n",
       "      <td>NaN</td>\n",
       "      <td>-41.56</td>\n",
       "      <td>-41.56</td>\n",
       "    </tr>\n",
       "    <tr>\n",
       "      <th>OKE</th>\n",
       "      <td>206.0</td>\n",
       "      <td>-3.12</td>\n",
       "      <td>165.92</td>\n",
       "      <td>-36.96</td>\n",
       "    </tr>\n",
       "    <tr>\n",
       "      <th>PLD</th>\n",
       "      <td>NaN</td>\n",
       "      <td>NaN</td>\n",
       "      <td>-68.11</td>\n",
       "      <td>-68.11</td>\n",
       "    </tr>\n",
       "    <tr>\n",
       "      <th>PNC</th>\n",
       "      <td>28.0</td>\n",
       "      <td>-0.41</td>\n",
       "      <td>NaN</td>\n",
       "      <td>NaN</td>\n",
       "    </tr>\n",
       "    <tr>\n",
       "      <th>PYPL</th>\n",
       "      <td>-57.0</td>\n",
       "      <td>0.82</td>\n",
       "      <td>-13.21</td>\n",
       "      <td>42.97</td>\n",
       "    </tr>\n",
       "    <tr>\n",
       "      <th>ROST</th>\n",
       "      <td>315.0</td>\n",
       "      <td>-4.88</td>\n",
       "      <td>54.21</td>\n",
       "      <td>-255.91</td>\n",
       "    </tr>\n",
       "    <tr>\n",
       "      <th>SIRI</th>\n",
       "      <td>1078.0</td>\n",
       "      <td>-17.34</td>\n",
       "      <td>NaN</td>\n",
       "      <td>NaN</td>\n",
       "    </tr>\n",
       "    <tr>\n",
       "      <th>SPGI</th>\n",
       "      <td>-11.0</td>\n",
       "      <td>0.16</td>\n",
       "      <td>NaN</td>\n",
       "      <td>NaN</td>\n",
       "    </tr>\n",
       "    <tr>\n",
       "      <th>TMO</th>\n",
       "      <td>NaN</td>\n",
       "      <td>NaN</td>\n",
       "      <td>-17.14</td>\n",
       "      <td>-17.14</td>\n",
       "    </tr>\n",
       "    <tr>\n",
       "      <th>TSCO</th>\n",
       "      <td>-25.0</td>\n",
       "      <td>0.39</td>\n",
       "      <td>-16.27</td>\n",
       "      <td>8.34</td>\n",
       "    </tr>\n",
       "    <tr>\n",
       "      <th>ULTA</th>\n",
       "      <td>7.0</td>\n",
       "      <td>-0.13</td>\n",
       "      <td>NaN</td>\n",
       "      <td>NaN</td>\n",
       "    </tr>\n",
       "    <tr>\n",
       "      <th>UNP</th>\n",
       "      <td>-57.0</td>\n",
       "      <td>0.86</td>\n",
       "      <td>NaN</td>\n",
       "      <td>NaN</td>\n",
       "    </tr>\n",
       "    <tr>\n",
       "      <th>USB</th>\n",
       "      <td>NaN</td>\n",
       "      <td>NaN</td>\n",
       "      <td>128.19</td>\n",
       "      <td>128.19</td>\n",
       "    </tr>\n",
       "    <tr>\n",
       "      <th>WIX</th>\n",
       "      <td>-19.0</td>\n",
       "      <td>0.26</td>\n",
       "      <td>NaN</td>\n",
       "      <td>NaN</td>\n",
       "    </tr>\n",
       "    <tr>\n",
       "      <th>XEL</th>\n",
       "      <td>NaN</td>\n",
       "      <td>NaN</td>\n",
       "      <td>-136.19</td>\n",
       "      <td>-136.19</td>\n",
       "    </tr>\n",
       "  </tbody>\n",
       "</table>\n",
       "</div>"
      ],
      "text/plain": [
       "      portfolio_shares  balance_lev_shares  target_shares_not_balanced  \\\n",
       "ANSS             104.0               -1.56                         NaN   \n",
       "AVB                NaN                 NaN                       92.97   \n",
       "AXP              108.0               -1.64                         NaN   \n",
       "BURL              22.0               -0.28                       12.77   \n",
       "CAT              -71.0                1.07                      -16.87   \n",
       "CHGG             -38.0                0.56                         NaN   \n",
       "DLR              -32.0                0.49                         NaN   \n",
       "DTE              -36.0                0.52                     -284.31   \n",
       "ENPH              13.0               -0.37                         NaN   \n",
       "EQR                NaN                 NaN                      127.77   \n",
       "ETFC            -148.0                2.39                         NaN   \n",
       "EXC                NaN                 NaN                      -61.31   \n",
       "FDX                NaN                 NaN                      -13.95   \n",
       "FE                 NaN                 NaN                     1837.39   \n",
       "FISV               NaN                 NaN                       69.91   \n",
       "GIS             -121.0                1.82                         NaN   \n",
       "GLW                NaN                 NaN                      -76.98   \n",
       "GS               -49.0                0.80                         NaN   \n",
       "HAL                NaN                 NaN                     -158.90   \n",
       "HCA               42.0               -0.73                         NaN   \n",
       "HLT                NaN                 NaN                       60.73   \n",
       "IBM               79.0               -1.26                         NaN   \n",
       "ILMN             -16.0                0.24                         NaN   \n",
       "INTC               NaN                 NaN                       94.55   \n",
       "KMI                NaN                 NaN                      659.46   \n",
       "KO               130.0               -1.81                         NaN   \n",
       "LOW              -30.0                0.52                      -31.52   \n",
       "LVS                NaN                 NaN                       52.64   \n",
       "MDLZ             198.0               -3.00                      167.14   \n",
       "MDT                NaN                 NaN                       48.32   \n",
       "MMM                NaN                 NaN                      -14.99   \n",
       "MNST               NaN                 NaN                      -30.55   \n",
       "MS               -35.0                0.72                         NaN   \n",
       "MSI              133.0               -2.09                       34.03   \n",
       "NEE                NaN                 NaN                      -41.56   \n",
       "OKE              206.0               -3.12                      165.92   \n",
       "PLD                NaN                 NaN                      -68.11   \n",
       "PNC               28.0               -0.41                         NaN   \n",
       "PYPL             -57.0                0.82                      -13.21   \n",
       "ROST             315.0               -4.88                       54.21   \n",
       "SIRI            1078.0              -17.34                         NaN   \n",
       "SPGI             -11.0                0.16                         NaN   \n",
       "TMO                NaN                 NaN                      -17.14   \n",
       "TSCO             -25.0                0.39                      -16.27   \n",
       "ULTA               7.0               -0.13                         NaN   \n",
       "UNP              -57.0                0.86                         NaN   \n",
       "USB                NaN                 NaN                      128.19   \n",
       "WIX              -19.0                0.26                         NaN   \n",
       "XEL                NaN                 NaN                     -136.19   \n",
       "\n",
       "      final_action_shares  \n",
       "ANSS                  NaN  \n",
       "AVB                 92.97  \n",
       "AXP                   NaN  \n",
       "BURL                -8.95  \n",
       "CAT                 53.06  \n",
       "CHGG                  NaN  \n",
       "DLR                   NaN  \n",
       "DTE               -248.83  \n",
       "ENPH                  NaN  \n",
       "EQR                127.77  \n",
       "ETFC                  NaN  \n",
       "EXC                -61.31  \n",
       "FDX                -13.95  \n",
       "FE                1837.39  \n",
       "FISV                69.91  \n",
       "GIS                   NaN  \n",
       "GLW                -76.98  \n",
       "GS                    NaN  \n",
       "HAL               -158.90  \n",
       "HCA                   NaN  \n",
       "HLT                 60.73  \n",
       "IBM                   NaN  \n",
       "ILMN                  NaN  \n",
       "INTC                94.55  \n",
       "KMI                659.46  \n",
       "KO                    NaN  \n",
       "LOW                 -2.04  \n",
       "LVS                 52.64  \n",
       "MDLZ               -27.86  \n",
       "MDT                 48.32  \n",
       "MMM                -14.99  \n",
       "MNST               -30.55  \n",
       "MS                    NaN  \n",
       "MSI                -96.88  \n",
       "NEE                -41.56  \n",
       "OKE                -36.96  \n",
       "PLD                -68.11  \n",
       "PNC                   NaN  \n",
       "PYPL                42.97  \n",
       "ROST              -255.91  \n",
       "SIRI                  NaN  \n",
       "SPGI                  NaN  \n",
       "TMO                -17.14  \n",
       "TSCO                 8.34  \n",
       "ULTA                  NaN  \n",
       "UNP                   NaN  \n",
       "USB                128.19  \n",
       "WIX                   NaN  \n",
       "XEL               -136.19  "
      ]
     },
     "execution_count": 32,
     "metadata": {},
     "output_type": "execute_result"
    }
   ],
   "source": [
    "action_conc.round(2)"
   ]
  },
  {
   "cell_type": "markdown",
   "metadata": {},
   "source": [
    "## Executing on TWS"
   ]
  },
  {
   "cell_type": "code",
   "execution_count": 38,
   "metadata": {},
   "outputs": [
    {
     "name": "stdout",
     "output_type": "stream",
     "text": [
      "open order ended\n"
     ]
    }
   ],
   "source": [
    "op = account.cancel_openorders()"
   ]
  },
  {
   "cell_type": "code",
   "execution_count": 36,
   "metadata": {},
   "outputs": [
    {
     "name": "stdout",
     "output_type": "stream",
     "text": [
      "app is running ...\n",
      "closing 5 positions which are not present in action\n",
      "closing position for ALTR is: 25 \n",
      "closing position for CBRE is: 61 \n",
      "closing position for FLOW is: 16 \n",
      "closing position for PEB is: 155 \n",
      "closing position for PK is: 32 \n"
     ]
    }
   ],
   "source": [
    "# closing positions not in shares target\n",
    "if not stock_to_close.empty:\n",
    "    next_order_id = account.closing_positions(stock_to_close = stock_to_close,\n",
    "                                              portfolio = portfolio , \n",
    "                                              order_id = val)\n",
    "else:\n",
    "    print ('There is no stock to close...')\n",
    "    next_order_id = val"
   ]
  },
  {
   "cell_type": "code",
   "execution_count": 37,
   "metadata": {},
   "outputs": [
    {
     "name": "stdout",
     "output_type": "stream",
     "text": [
      "buy order quantity placed for ACLS is: 32 \n",
      "buy order quantity placed for ALL is: 4 \n",
      "buy order quantity placed for AMD is: 18 \n",
      "sell order quantity placed for CLF is: 249 \n",
      "buy order quantity placed for CWT is: 32 \n",
      "sell order quantity placed for DRQ is: 30 \n",
      "sell order quantity placed for ETR is: 17 \n",
      "sell order quantity placed for GTN is: 76 \n",
      "buy order quantity placed for MAC is: 503 \n",
      "sell order quantity placed for MCY is: 52 \n",
      "sell order quantity placed for NXST is: 6 \n",
      "buy order quantity placed for TWTR is: 34 \n",
      "sell order quantity placed for UAA is: 112 \n",
      "buy order quantity placed for UCTT is: 51 \n",
      "buy order quantity placed for UFPI is: 9 \n",
      "sell order quantity placed for VGR is: 38 \n",
      "sell order quantity placed for VNO is: 18 \n",
      "sell order quantity placed for WELL is: 43 \n"
     ]
    }
   ],
   "source": [
    "#action_final = action_final.astype('int')\n",
    "account.placing_final_orders(action_final=action_final, \n",
    "                             order_id = next_order_id)"
   ]
  },
  {
   "cell_type": "code",
   "execution_count": null,
   "metadata": {},
   "outputs": [],
   "source": [
    "if rth and list(open_orders_all.values) == []:\n",
    "    \n",
    "    portfolio = account.read_positions(subscribe = True, acctCode = account_number)\n",
    "    not_executed = portfolio.index ^ action_final\n",
    "    print (not_executed)\n",
    "    \n",
    "else:\n",
    "    \n",
    "    open_orders_all = account.get_openorders()    \n",
    "    not_executed = open_orders_all.index ^ action_conc.index\n",
    "    print (not_executed)\n",
    "    table = pd.concat([action_conc, open_orders_all[['registered_orders']]],axis=1)\n",
    "    print (table)"
   ]
  },
  {
   "cell_type": "markdown",
   "metadata": {},
   "source": [
    "## 11 - 6 - Commission report of last realized trades"
   ]
  },
  {
   "cell_type": "code",
   "execution_count": 7,
   "metadata": {},
   "outputs": [],
   "source": [
    "df = account.commission_report(acctCode = account_number, time= '20200601 00:00:00')"
   ]
  },
  {
   "cell_type": "code",
   "execution_count": 8,
   "metadata": {},
   "outputs": [
    {
     "data": {
      "text/html": [
       "<div>\n",
       "<style scoped>\n",
       "    .dataframe tbody tr th:only-of-type {\n",
       "        vertical-align: middle;\n",
       "    }\n",
       "\n",
       "    .dataframe tbody tr th {\n",
       "        vertical-align: top;\n",
       "    }\n",
       "\n",
       "    .dataframe thead th {\n",
       "        text-align: right;\n",
       "    }\n",
       "</style>\n",
       "<table border=\"1\" class=\"dataframe\">\n",
       "  <thead>\n",
       "    <tr style=\"text-align: right;\">\n",
       "      <th></th>\n",
       "      <th>ticker</th>\n",
       "      <th>shares</th>\n",
       "      <th>action</th>\n",
       "      <th>price</th>\n",
       "      <th>marketValue</th>\n",
       "      <th>RealizedPNL</th>\n",
       "      <th>commission</th>\n",
       "    </tr>\n",
       "    <tr>\n",
       "      <th>time</th>\n",
       "      <th></th>\n",
       "      <th></th>\n",
       "      <th></th>\n",
       "      <th></th>\n",
       "      <th></th>\n",
       "      <th></th>\n",
       "      <th></th>\n",
       "    </tr>\n",
       "  </thead>\n",
       "  <tbody>\n",
       "  </tbody>\n",
       "</table>\n",
       "</div>"
      ],
      "text/plain": [
       "Empty DataFrame\n",
       "Columns: [ticker, shares, action, price, marketValue, RealizedPNL, commission]\n",
       "Index: []"
      ]
     },
     "execution_count": 8,
     "metadata": {},
     "output_type": "execute_result"
    }
   ],
   "source": [
    "df"
   ]
  },
  {
   "cell_type": "code",
   "execution_count": 9,
   "metadata": {},
   "outputs": [
    {
     "ename": "NameError",
     "evalue": "name 'execution_date' is not defined",
     "output_type": "error",
     "traceback": [
      "\u001b[0;31m---------------------------------------------------------------------------\u001b[0m",
      "\u001b[0;31mNameError\u001b[0m                                 Traceback (most recent call last)",
      "\u001b[0;32m<ipython-input-9-aa885304d633>\u001b[0m in \u001b[0;36m<module>\u001b[0;34m\u001b[0m\n\u001b[0;32m----> 1\u001b[0;31m \u001b[0mRealizedPNL\u001b[0m \u001b[0;34m=\u001b[0m \u001b[0mnp\u001b[0m\u001b[0;34m.\u001b[0m\u001b[0mround\u001b[0m\u001b[0;34m(\u001b[0m\u001b[0mpd\u001b[0m\u001b[0;34m.\u001b[0m\u001b[0mto_numeric\u001b[0m\u001b[0;34m(\u001b[0m\u001b[0mdf\u001b[0m\u001b[0;34m.\u001b[0m\u001b[0mloc\u001b[0m\u001b[0;34m[\u001b[0m\u001b[0mslice\u001b[0m\u001b[0;34m(\u001b[0m\u001b[0mexecution_date\u001b[0m\u001b[0;34m)\u001b[0m\u001b[0;34m]\u001b[0m\u001b[0;34m[\u001b[0m\u001b[0;34m'RealizedPNL'\u001b[0m\u001b[0;34m]\u001b[0m\u001b[0;34m,\u001b[0m \u001b[0merrors\u001b[0m\u001b[0;34m=\u001b[0m\u001b[0;34m'coerce'\u001b[0m\u001b[0;34m)\u001b[0m\u001b[0;34m.\u001b[0m\u001b[0msum\u001b[0m\u001b[0;34m(\u001b[0m\u001b[0;34m)\u001b[0m\u001b[0;34m,\u001b[0m\u001b[0;36m2\u001b[0m\u001b[0;34m)\u001b[0m\u001b[0;34m\u001b[0m\u001b[0;34m\u001b[0m\u001b[0m\n\u001b[0m\u001b[1;32m      2\u001b[0m \u001b[0;31m#Total_Realized_Return = np.round((RealizedPNL/net_liq)*100,2)\u001b[0m\u001b[0;34m\u001b[0m\u001b[0;34m\u001b[0m\u001b[0;34m\u001b[0m\u001b[0m\n\u001b[1;32m      3\u001b[0m \u001b[0mprint\u001b[0m \u001b[0;34m(\u001b[0m\u001b[0;34m'Report for {}:'\u001b[0m\u001b[0;34m.\u001b[0m\u001b[0mformat\u001b[0m\u001b[0;34m(\u001b[0m\u001b[0mexecution_date\u001b[0m\u001b[0;34m)\u001b[0m\u001b[0;34m)\u001b[0m\u001b[0;34m\u001b[0m\u001b[0;34m\u001b[0m\u001b[0m\n\u001b[1;32m      4\u001b[0m \u001b[0mprint\u001b[0m \u001b[0;34m(\u001b[0m\u001b[0;34m' Market Value: {} $'\u001b[0m\u001b[0;34m.\u001b[0m\u001b[0mformat\u001b[0m\u001b[0;34m(\u001b[0m\u001b[0mnp\u001b[0m\u001b[0;34m.\u001b[0m\u001b[0mround\u001b[0m\u001b[0;34m(\u001b[0m\u001b[0mdf\u001b[0m\u001b[0;34m.\u001b[0m\u001b[0mloc\u001b[0m\u001b[0;34m[\u001b[0m\u001b[0mslice\u001b[0m\u001b[0;34m(\u001b[0m\u001b[0mexecution_date\u001b[0m\u001b[0;34m)\u001b[0m\u001b[0;34m]\u001b[0m\u001b[0;34m[\u001b[0m\u001b[0;34m'marketValue'\u001b[0m\u001b[0;34m]\u001b[0m\u001b[0;34m.\u001b[0m\u001b[0msum\u001b[0m\u001b[0;34m(\u001b[0m\u001b[0;34m)\u001b[0m\u001b[0;34m,\u001b[0m\u001b[0;36m2\u001b[0m\u001b[0;34m)\u001b[0m\u001b[0;34m)\u001b[0m\u001b[0;34m)\u001b[0m\u001b[0;34m\u001b[0m\u001b[0;34m\u001b[0m\u001b[0m\n\u001b[1;32m      5\u001b[0m \u001b[0mprint\u001b[0m \u001b[0;34m(\u001b[0m\u001b[0;34m' Total Commission: {} $'\u001b[0m\u001b[0;34m.\u001b[0m\u001b[0mformat\u001b[0m\u001b[0;34m(\u001b[0m\u001b[0mnp\u001b[0m\u001b[0;34m.\u001b[0m\u001b[0mround\u001b[0m\u001b[0;34m(\u001b[0m\u001b[0mdf\u001b[0m\u001b[0;34m.\u001b[0m\u001b[0mloc\u001b[0m\u001b[0;34m[\u001b[0m\u001b[0mslice\u001b[0m\u001b[0;34m(\u001b[0m\u001b[0mexecution_date\u001b[0m\u001b[0;34m)\u001b[0m\u001b[0;34m]\u001b[0m\u001b[0;34m[\u001b[0m\u001b[0;34m'commission'\u001b[0m\u001b[0;34m]\u001b[0m\u001b[0;34m.\u001b[0m\u001b[0msum\u001b[0m\u001b[0;34m(\u001b[0m\u001b[0;34m)\u001b[0m\u001b[0;34m,\u001b[0m\u001b[0;36m2\u001b[0m\u001b[0;34m)\u001b[0m\u001b[0;34m)\u001b[0m\u001b[0;34m)\u001b[0m\u001b[0;34m\u001b[0m\u001b[0;34m\u001b[0m\u001b[0m\n",
      "\u001b[0;31mNameError\u001b[0m: name 'execution_date' is not defined"
     ]
    }
   ],
   "source": [
    "RealizedPNL = np.round(pd.to_numeric(df.loc[slice(execution_date)]['RealizedPNL'], errors='coerce').sum(),2)\n",
    "#Total_Realized_Return = np.round((RealizedPNL/net_liq)*100,2)\n",
    "print ('Report for {}:'.format(execution_date))\n",
    "print (' Market Value: {} $'.format(np.round(df.loc[slice(execution_date)]['marketValue'].sum(),2)))\n",
    "print (' Total Commission: {} $'.format(np.round(df.loc[slice(execution_date)]['commission'].sum(),2)))\n",
    "print (' Total Realized PNL: {} $'.format(RealizedPNL))  \n",
    "#print (' Total Realized Return: {} %'.format(Total_Realized_Return))  \n"
   ]
  },
  {
   "cell_type": "code",
   "execution_count": null,
   "metadata": {},
   "outputs": [],
   "source": []
  },
  {
   "cell_type": "code",
   "execution_count": null,
   "metadata": {},
   "outputs": [],
   "source": []
  },
  {
   "cell_type": "code",
   "execution_count": null,
   "metadata": {},
   "outputs": [],
   "source": []
  }
 ],
 "metadata": {
  "kernelspec": {
   "display_name": "Python 3",
   "language": "python",
   "name": "python3"
  },
  "language_info": {
   "codemirror_mode": {
    "name": "ipython",
    "version": 3
   },
   "file_extension": ".py",
   "mimetype": "text/x-python",
   "name": "python",
   "nbconvert_exporter": "python",
   "pygments_lexer": "ipython3",
   "version": "3.6.9"
  }
 },
 "nbformat": 4,
 "nbformat_minor": 2
}
