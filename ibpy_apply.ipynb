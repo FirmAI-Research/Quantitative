{
 "cells": [
  {
   "cell_type": "code",
   "execution_count": 1,
   "metadata": {},
   "outputs": [],
   "source": [
    "from ib.ext.Contract import Contract\n",
    "from ib.ext.ScannerSubscription import ScannerSubscription\n",
    "from ib.ext.ContractDetails import ContractDetails\n",
    "from ib.ext.Order import Order\n",
    "from ib.opt import Connection, message\n",
    "\n",
    "from time import sleep \n",
    "from datetime import datetime\n",
    "import pandas as pd\n",
    "import numpy as np\n",
    "# import backtrader as bt\n",
    "# import pytz, tzlocal\n",
    "from bs4 import BeautifulSoup\n",
    "import re\n",
    "from ibapi.ticktype import TickTypeEnum\n",
    "import talib"
   ]
  },
  {
   "cell_type": "code",
   "execution_count": 2,
   "metadata": {},
   "outputs": [],
   "source": [
    "def error_handler(msg):\n",
    "    \"\"\"Handles the capturing of error messages\"\"\"\n",
    "    print (\"Server Error: {}\".format(msg))\n",
    "\n",
    "def reply_handler(msg):\n",
    "    \"\"\"Handles of server replies\"\"\"\n",
    "    print (\"Server Response: {}, {}\".format(msg.typeName, msg))\n",
    "\n",
    "def next_id(msg):\n",
    "    global order_id\n",
    "    order_id = int(re.findall('\\d+', str(msg))[0])\n",
    "    \n",
    "    return order_id\n",
    "    \n",
    "def historical_data_handler(msg):  \n",
    "    global historical_data\n",
    "    \n",
    "    if ('finished' in str(msg.date)) == False:   \n",
    "        \n",
    "        historical_data.loc[len(historical_data)] = ([msg.date,\n",
    "                                                      msg.open, msg.high, msg.low, msg.close, msg.volume])\n",
    "    else:  \n",
    "        historical_data.set_index('Date',inplace=True)\n",
    "\n",
    "        \n",
    "def ReportsFinStatements(msg):\n",
    "    global annual\n",
    "    global quarter\n",
    "   \n",
    "    parser = BeautifulSoup(msg.data, 'lxml')\n",
    "\n",
    "    mapp = dict()\n",
    "    for item in parser.findAll('mapitem'):\n",
    "        mapp[item['coaitem']] = item.text\n",
    "        \n",
    "    \n",
    "    #ANNUAL\n",
    "    index = [];columns = []\n",
    "    for item in parser.findAll('annualperiods')[0].findAll('fiscalperiod'):\n",
    "        index.append(datetime.strptime(item['fiscalyear'], '%Y').year)\n",
    "    \n",
    "    for i in parser.findAll('annualperiods')[0].findAll('fiscalperiod')[0].findAll('lineitem'):\n",
    "        columns.append(mapp[i['coacode']])\n",
    "\n",
    "    annual = pd.DataFrame(index = index, columns = columns)\n",
    "    annual.index.name = 'Annual'\n",
    "    for item in parser.findAll('annualperiods')[0].findAll('fiscalperiod'):\n",
    "        for i in item.findAll('lineitem'):\n",
    "            try:\n",
    "                annual.loc[datetime.strptime(item['fiscalyear'], '%Y').year,mapp[i['coacode']]] = float(i.text)\n",
    "            except:\n",
    "                annual.loc[datetime.strptime(item['fiscalyear'], '%Y').year,mapp[i['coacode']]] = np.nan\n",
    "        \n",
    "    # QUARTER\n",
    "    index_q = [];columns_q = []\n",
    "    for item in parser.findAll('interimperiods')[0].findAll('fiscalperiod'):\n",
    "        index_q.append(datetime.strptime(item['enddate'], '%Y-%m-%d').date())\n",
    "    \n",
    "    for i in parser.findAll('interimperiods')[0].findAll('fiscalperiod')[0].findAll('lineitem'):\n",
    "        columns_q.append(mapp[i['coacode']])\n",
    "\n",
    "    quarter = pd.DataFrame(index = index_q, columns = columns_q)\n",
    "    quarter.index.name = 'Quarter'\n",
    "    for item in parser.findAll('interimperiods')[0].findAll('fiscalperiod'):\n",
    "        for i in item.findAll('lineitem'):\n",
    "            try:\n",
    "                quarter.loc[datetime.strptime(item['enddate'], '%Y-%m-%d').date(),mapp[i['coacode']]] = float(i.text)\n",
    "            except:\n",
    "                quarter.loc[datetime.strptime(item['enddate'], '%Y-%m-%d').date(),mapp[i['coacode']]] = np.nan\n",
    "\n",
    "\n",
    "def updatePortfolio(msg):\n",
    "    global positions\n",
    "    positions.append(msg)\n",
    "\n",
    "def mktdata(msg):\n",
    "    global news\n",
    "    news.append(msg)\n",
    "    \n",
    "def Scanner(msg):\n",
    "    global symbol\n",
    "    global sectype\n",
    "    global exchange\n",
    "    global currency\n",
    "        \n",
    "    symbol.append(msg.contractDetails.m_summary.m_symbol)\n",
    "    sectype.append(msg.contractDetails.m_summary.m_secType)\n",
    "    exchange.append(msg.contractDetails.m_summary.m_exchange)\n",
    "    currency.append(msg.contractDetails.m_summary.m_currency)\n",
    "\n",
    "def Analyst_Estimates(msg):\n",
    "    global resc\n",
    "    global resc_ann\n",
    "    global resc_q\n",
    "    \n",
    "    parser = BeautifulSoup(msg.data, 'lxml')\n",
    "    resc.iloc[:,0] = parser.find('name').text    \n",
    "    resc.iloc[:,1] = parser.find('exchange').text\n",
    "    resc.iloc[:,2] = parser.findAll('secid')[0].text\n",
    "    resc.iloc[:,3] = parser.findAll('sector')[0].text\n",
    "\n",
    "    resc.iloc[:,4] = parser.findAll('marketdataitem')[0].text\n",
    "    resc.iloc[:,5] = parser.findAll('marketdataitem')[1].text\n",
    "    resc.iloc[:,6] = parser.findAll('marketdataitem')[2].text\n",
    "    resc.iloc[:,7] = parser.findAll('marketdataitem')[3].text\n",
    "    resc.iloc[:,8] = parser.findAll('marketdataitem')[4].text\n",
    "    resc.iloc[:,9] = parser.findAll('fyactual')[0].text\n",
    "    \n",
    "    annual = [];columns = [];quarter = []\n",
    "    for item in parser.findAll('fyactual'):\n",
    "        columns.append(item['type'])\n",
    "        for per in item.findAll('fyperiod'):\n",
    "            if per['periodtype'] == 'A':\n",
    "                annual.append(per['fyear'])\n",
    "            if per['periodtype'] == 'Q':\n",
    "                quarter.append('{}-{}'.format(per['endcalyear'],per['endmonth']))\n",
    "    \n",
    "    index = list(set(annual))\n",
    "    index_q = list(set(quarter))\n",
    "    resc_ann = pd.DataFrame(index = index, columns = columns).sort_index(axis = 0,ascending = False)\n",
    "    resc_q = pd.DataFrame(index = index_q, columns = columns).sort_index(axis = 0,ascending = False)\n",
    "    \n",
    "    for item in parser.findAll('fyactual'):\n",
    "        for per in item.findAll('fyperiod'):\n",
    "            \n",
    "            if per['periodtype'] == 'Q':\n",
    "                try:\n",
    "                    resc_q.loc['{}-{}'.format(per['endcalyear'],per['endmonth']),item['type']] = float(per.find('actvalue').text)\n",
    "                except:\n",
    "                    resc_q.loc['{}-{}'.format(per['endcalyear'],per['endmonth']),item['type']] = np.nan  \n",
    "                    \n",
    "            if per['periodtype'] == 'A':\n",
    "                try:\n",
    "                    resc_ann.loc[per['fyear'],item['type']] = float(per.find('actvalue').text)\n",
    "                except:\n",
    "                    resc_ann.loc[per['fyear'],item['type']] = np.nan\n",
    "\n",
    "                    \n",
    "def ReportsFinSummary(msg):\n",
    "    global fin\n",
    "    \n",
    "    parser = BeautifulSoup(msg.data, 'lxml')\n",
    "    date_div = [];data_div = []\n",
    "    \n",
    "    for i in parser.findAll('dividendpershare'):\n",
    "        if i['period'] == '12M' and i['reporttype'] == 'TTM':\n",
    "            \n",
    "            date_div.append(i['asofdate'])\n",
    "            try:\n",
    "                data_div.append(float(i.text))\n",
    "            except:\n",
    "                data_div.append(np.nan)\n",
    "                \n",
    "    data_rev = []\n",
    "    for i in parser.findAll('totalrevenue'):\n",
    "        if i['period'] == '12M' and i['reporttype'] == 'TTM':\n",
    "            try:\n",
    "                data_rev.append(float(i.text))\n",
    "            except:\n",
    "                data_rev.append(np.nan)\n",
    "                \n",
    "    data_eps = []\n",
    "    for i in parser.findAll('eps'):\n",
    "        if i['period'] == '12M' and i['reporttype'] == 'TTM':\n",
    "            try:\n",
    "                data_eps.append(float(i.text))\n",
    "            except:\n",
    "                data_eps.append(np.nan)\n",
    "\n",
    "    fin = pd.DataFrame(index = date_div,\n",
    "                       data = {'Dividend Per Share(TTM)':data_div,\n",
    "                               'Total Revenue(TTM)':data_rev, \n",
    "                               'EPS(TTM)':data_eps}).sort_index(axis = 0,ascending = False)\n",
    "\n",
    "def ReportSnapshot(msg):\n",
    "    global business_summary\n",
    "    global brief\n",
    "    global snap\n",
    "    global address\n",
    "    global ratio\n",
    "    global estimate\n",
    "    \n",
    "    parser = BeautifulSoup(msg.data, 'lxml')\n",
    "    \n",
    "    business_summary = parser.findAll('text')[0].text\n",
    "    brief = parser.findAll('text')[1].text\n",
    "    address = '{},{},{},{}'.format(parser.find('contactinfo').find('streetaddress').text,\n",
    "                                   parser.find('contactinfo').find('city').text,\n",
    "                                   parser.find('contactinfo').find('state-region').text,\n",
    "                                   parser.find('contactinfo').find('country').text)\n",
    "    \n",
    "    snap = pd.DataFrame(index = [parser.findAll('coid')[1].text],\n",
    "                        data = {'Company Type': parser.find('cotype').text,\n",
    "                                'Desc':parser.findAll('issue')[0]['desc'],\n",
    "                                'Exchange': parser.findAll('exchange')[0].text,\n",
    "                                'Industry':parser.findAll('industry')[0].text,\n",
    "                                'Index':parser.find('indexconstituet').text})\n",
    "    dicted = {};dicted_est = {}\n",
    "    for i in range(len(parser.find('ratios').findAll('ratio'))):\n",
    "        try:\n",
    "            dicted[parser.find('ratios').findAll('ratio')[i]['fieldname']] = float(parser.find('ratios').findAll('ratio')[i].text)\n",
    "        except:\n",
    "            dicted[parser.find('ratios').findAll('ratio')[i]['fieldname']] = parser.find('ratios').findAll('ratio')[i].text\n",
    "            \n",
    "    ratio = pd.DataFrame(index = [parser.findAll('coid')[1].text], data = dicted)\n",
    "    \n",
    "    for i in range(len(parser.find('forecastdata').findAll('ratio'))):\n",
    "        try:\n",
    "            dicted_est[parser.find('forecastdata').findAll('ratio')[i]['fieldname']] = float(parser.find('forecastdata').findAll('ratio')[i].text)\n",
    "        except:\n",
    "            dicted_est[parser.find('forecastdata').findAll('ratio')[i]['fieldname']] = parser.find('forecastdata').findAll('ratio')[i].text\n",
    "            \n",
    "    estimate = pd.DataFrame(index = [parser.findAll('coid')[1].text], data = dicted_est)\n",
    "    \n",
    "def create_contract(symbol, sec_type, exch, curr):\n",
    "\n",
    "    contract = Contract()\n",
    "    contract.m_symbol = symbol\n",
    "    contract.m_secType = sec_type\n",
    "    contract.m_exchange = exch\n",
    "    #contract.m_primaryExch = prim_exch\n",
    "    contract.m_currency = curr\n",
    "    \n",
    "    return contract\n",
    "\n",
    "def create_order(order_type, quantity, action):\n",
    "\n",
    "    order = Order()\n",
    "    order.m_orderType = order_type\n",
    "    order.m_totalQuantity = quantity\n",
    "    order.m_action = action\n",
    "    \n",
    "    return order\n",
    "\n",
    "def create_scanner(numberOfRows, instrument, locationCode, ScanCode, \n",
    "                   AbovePrice, marketCapAbove, AboveVolume):\n",
    "\n",
    "    scanSub = ScannerSubscription()\n",
    "    scanSub.numberOfRows(numberOfRows)\n",
    "    scanSub.m_instrument = instrument\n",
    "    scanSub.m_locationCode = locationCode\n",
    "    scanSub.m_scanCode = ScanCode\n",
    "    scanSub.m_abovePrice = AbovePrice\n",
    "    scanSub.m_marketCapAbove = marketCapAbove\n",
    "    scanSub.m_aboveVolume = AboveVolume\n",
    "    \n",
    "    return scanSub\n",
    "\n"
   ]
  },
  {
   "cell_type": "code",
   "execution_count": 3,
   "metadata": {},
   "outputs": [],
   "source": [
    "#price = pd.DataFrame(columns = ['Ticker Id','Field','Price'])\n",
    "#size = pd.DataFrame()\n",
    "#scan_param = None\n",
    "#tws_conn.register(ScannerParameters, message.scannerParameters)\n",
    "#tws_conn.register(mktdata, message.tickPrice)\n",
    "#tws_conn.reqMarketDataType(4) # switch to delayed frozen data if live is not available\n",
    "#tws_conn.reqScannerParameters()"
   ]
  },
  {
   "cell_type": "markdown",
   "metadata": {},
   "source": [
    "# Connecting to TWS"
   ]
  },
  {
   "cell_type": "code",
   "execution_count": 4,
   "metadata": {},
   "outputs": [
    {
     "name": "stdout",
     "output_type": "stream",
     "text": [
      "Server Version: 76\n",
      "TWS Time at connection:20191014 05:10:45 EST\n"
     ]
    },
    {
     "data": {
      "text/plain": [
       "True"
      ]
     },
     "execution_count": 4,
     "metadata": {},
     "output_type": "execute_result"
    }
   ],
   "source": [
    "tws_conn = Connection.create(host='127.0.0.1',port=7497, clientId=0)\n",
    "tws_conn.connect()"
   ]
  },
  {
   "cell_type": "code",
   "execution_count": 5,
   "metadata": {},
   "outputs": [
    {
     "data": {
      "text/plain": [
       "False"
      ]
     },
     "execution_count": 5,
     "metadata": {},
     "output_type": "execute_result"
    }
   ],
   "source": [
    "tws_conn.register(error_handler, 'Error')\n",
    "tws_conn.register(reply_handler)\n",
    "# tws_conn.unregister(error_handler, 'Error')\n",
    "# tws_conn.unregister(reply_handler)"
   ]
  },
  {
   "cell_type": "code",
   "execution_count": 6,
   "metadata": {},
   "outputs": [],
   "source": [
    "#Briefing Trader\n",
    "contract_brief = create_contract(symbol = 'BRFG:BRFG_ALL',\n",
    "                sec_type = 'NEWS',\n",
    "                exch = 'BRFG', curr='')\n",
    "#Benzinga Pro\n",
    "contract_benzinga = create_contract(symbol = 'DJNL:DJNL_ALL',\n",
    "                sec_type = 'NEWS',\n",
    "                exch = 'DJNL', curr='')\n",
    "#Midnight Trader\n",
    "contract_midnight = create_contract(symbol = 'BRFUPDN:BRF_ALL',\n",
    "                sec_type = 'NEWS',\n",
    "                exch = 'BRFUPDN', curr='')"
   ]
  },
  {
   "cell_type": "code",
   "execution_count": 7,
   "metadata": {},
   "outputs": [],
   "source": [
    "news=[]"
   ]
  },
  {
   "cell_type": "code",
   "execution_count": 8,
   "metadata": {},
   "outputs": [],
   "source": [
    "tws_conn.register(mktdata, message.tickString)\n",
    "tws_conn.reqMktData(0, contract_brief, \"mdoff,292\", False)\n",
    "tws_conn.reqMktData(1, contract_benzinga, \"mdoff,292\", False)\n",
    "tws_conn.reqMktData(2, contract_midnight, \"mdoff,292\", False)\n",
    "\n",
    "sleep(5)"
   ]
  },
  {
   "cell_type": "code",
   "execution_count": 9,
   "metadata": {},
   "outputs": [
    {
     "data": {
      "text/plain": [
       "[<ib.opt.message.TickString at 0x7f2a57779c88>,\n",
       " <ib.opt.message.TickString at 0x7f2a57779648>,\n",
       " <ib.opt.message.TickString at 0x7f2a57772348>,\n",
       " <ib.opt.message.TickString at 0x7f2a57772208>,\n",
       " <ib.opt.message.TickString at 0x7f2a57772308>,\n",
       " <ib.opt.message.TickString at 0x7f2a577721c8>]"
      ]
     },
     "execution_count": 9,
     "metadata": {},
     "output_type": "execute_result"
    }
   ],
   "source": [
    "news"
   ]
  },
  {
   "cell_type": "code",
   "execution_count": 14,
   "metadata": {},
   "outputs": [
    {
     "name": "stdout",
     "output_type": "stream",
     "text": [
      "BRFG$0bbfa23b 20191011-19:58:00 BRFG Trade sensitive sectors leading the market higher as U.S.-China trade tensions ease\n",
      "BRFG$0bbfffcd 20191011-20:14:46 BRFG TechStocks\n",
      "BRFG$0bc0065f 20191011-20:27:00 BRFG Weekly Wrap\n",
      "BRFUPDN$0bbf1fe3 20191011-13:18:50 BRFUPDN Morgan Stanley initiated Ascendis Pharma (ASND) coverage with Overweight and target $128\n",
      "DJNL$025ab6b3 20191011-10:49:56 DJNL North American Morning Briefing\n",
      "DJNL$08aff51c 20191011-20:43:26 DJNL Tomorrow's News Today\n"
     ]
    }
   ],
   "source": [
    "print (news[0].value)\n",
    "print (news[1].value)\n",
    "print (news[2].value)\n",
    "print (news[3].value)\n",
    "print (news[4].value)\n",
    "print (news[5].value)"
   ]
  },
  {
   "cell_type": "code",
   "execution_count": 15,
   "metadata": {},
   "outputs": [
    {
     "data": {
      "text/plain": [
       "False"
      ]
     },
     "execution_count": 15,
     "metadata": {},
     "output_type": "execute_result"
    }
   ],
   "source": [
    "tws_conn.unregister(mktdata, message.tickString)"
   ]
  },
  {
   "cell_type": "markdown",
   "metadata": {},
   "source": [
    "# Step 1 : Filtertation"
   ]
  },
  {
   "cell_type": "code",
   "execution_count": 16,
   "metadata": {},
   "outputs": [],
   "source": [
    "symbol = [];sectype = [];exchange = []; currency = []"
   ]
  },
  {
   "cell_type": "code",
   "execution_count": 17,
   "metadata": {},
   "outputs": [],
   "source": [
    "ScanCode = 'LOW_VS_52W_HL'\n",
    "scanSub = create_scanner(numberOfRows = 10, instrument = 'STK', \n",
    "                         locationCode = 'STK.US.MAJOR', ScanCode = ScanCode, \n",
    "                         AbovePrice = '100',marketCapAbove = '100000',\n",
    "                         AboveVolume = '1000')\n"
   ]
  },
  {
   "cell_type": "code",
   "execution_count": 18,
   "metadata": {},
   "outputs": [
    {
     "name": "stdout",
     "output_type": "stream",
     "text": [
      "Server Error: <error id=1, errorCode=165, errorMsg=Historical Market Data Service query message:no items retrieved>\n"
     ]
    },
    {
     "data": {
      "text/plain": [
       "True"
      ]
     },
     "execution_count": 18,
     "metadata": {},
     "output_type": "execute_result"
    },
    {
     "name": "stdout",
     "output_type": "stream",
     "text": [
      "Server Error: <error id=1, errorCode=165, errorMsg=Historical Market Data Service query message:no items retrieved>\n",
      "Server Error: <error id=1, errorCode=165, errorMsg=Historical Market Data Service query message:no items retrieved>\n",
      "Server Error: <error id=1, errorCode=165, errorMsg=Historical Market Data Service query message:no items retrieved>\n",
      "Server Error: <error id=1, errorCode=165, errorMsg=Historical Market Data Service query message:no items retrieved>\n",
      "Server Error: <error id=1, errorCode=165, errorMsg=Historical Market Data Service query message:no items retrieved>\n",
      "Server Error: <error id=1, errorCode=165, errorMsg=Historical Market Data Service query message:no items retrieved>\n",
      "Server Error: <error id=1, errorCode=165, errorMsg=Historical Market Data Service query message:no items retrieved>\n",
      "Server Error: <error id=1, errorCode=165, errorMsg=Historical Market Data Service query message:no items retrieved>\n",
      "Server Error: <error id=1, errorCode=165, errorMsg=Historical Market Data Service query message:no items retrieved>\n",
      "Server Error: <error id=1, errorCode=165, errorMsg=Historical Market Data Service query message:no items retrieved>\n",
      "Server Error: <error id=1, errorCode=165, errorMsg=Historical Market Data Service query message:no items retrieved>\n",
      "Server Error: <error id=1, errorCode=165, errorMsg=Historical Market Data Service query message:no items retrieved>\n",
      "Server Error: <error id=1, errorCode=165, errorMsg=Historical Market Data Service query message:no items retrieved>\n",
      "Server Error: <error id=1, errorCode=165, errorMsg=Historical Market Data Service query message:no items retrieved>\n",
      "Server Error: <error id=1, errorCode=165, errorMsg=Historical Market Data Service query message:no items retrieved>\n",
      "Server Error: <error id=1, errorCode=165, errorMsg=Historical Market Data Service query message:no items retrieved>\n",
      "Server Error: <error id=1, errorCode=165, errorMsg=Historical Market Data Service query message:no items retrieved>\n",
      "Server Error: <error id=1, errorCode=165, errorMsg=Historical Market Data Service query message:no items retrieved>\n",
      "Server Error: <error id=1, errorCode=165, errorMsg=Historical Market Data Service query message:no items retrieved>\n",
      "Server Error: <error id=1, errorCode=165, errorMsg=Historical Market Data Service query message:no items retrieved>\n",
      "Server Error: <error id=1, errorCode=165, errorMsg=Historical Market Data Service query message:no items retrieved>\n",
      "Server Error: <error id=1, errorCode=165, errorMsg=Historical Market Data Service query message:no items retrieved>\n",
      "Server Error: <error id=1, errorCode=165, errorMsg=Historical Market Data Service query message:no items retrieved>\n",
      "Server Error: <error id=1, errorCode=165, errorMsg=Historical Market Data Service query message:no items retrieved>\n",
      "Server Error: <error id=1, errorCode=165, errorMsg=Historical Market Data Service query message:no items retrieved>\n",
      "Server Error: <error id=1, errorCode=165, errorMsg=Historical Market Data Service query message:no items retrieved>\n",
      "Server Error: <error id=1, errorCode=165, errorMsg=Historical Market Data Service query message:no items retrieved>\n",
      "Server Error: <error id=1, errorCode=165, errorMsg=Historical Market Data Service query message:no items retrieved>\n",
      "Server Error: <error id=1, errorCode=165, errorMsg=Historical Market Data Service query message:no items retrieved>\n",
      "Server Error: <error id=1, errorCode=165, errorMsg=Historical Market Data Service query message:no items retrieved>\n",
      "Server Error: <error id=1, errorCode=165, errorMsg=Historical Market Data Service query message:no items retrieved>\n",
      "Server Error: <error id=1, errorCode=165, errorMsg=Historical Market Data Service query message:no items retrieved>\n",
      "Server Error: <error id=1, errorCode=165, errorMsg=Historical Market Data Service query message:no items retrieved>\n",
      "Server Error: <error id=1, errorCode=165, errorMsg=Historical Market Data Service query message:no items retrieved>\n",
      "Server Error: <error id=1, errorCode=165, errorMsg=Historical Market Data Service query message:no items retrieved>\n",
      "Server Error: <error id=1, errorCode=165, errorMsg=Historical Market Data Service query message:no items retrieved>\n",
      "Server Error: <error id=1, errorCode=165, errorMsg=Historical Market Data Service query message:no items retrieved>\n",
      "Server Error: <error id=1, errorCode=165, errorMsg=Historical Market Data Service query message:no items retrieved>\n",
      "Server Error: <error id=1, errorCode=165, errorMsg=Historical Market Data Service query message:no items retrieved>\n",
      "Server Error: <error id=1, errorCode=165, errorMsg=Historical Market Data Service query message:no items retrieved>\n",
      "Server Error: <error id=1, errorCode=165, errorMsg=Historical Market Data Service query message:no items retrieved>\n",
      "Server Error: <error id=0, errorCode=10197, errorMsg=No market data during competing live session>\n",
      "Server Error: <error id=2, errorCode=10197, errorMsg=No market data during competing live session>\n",
      "Server Error: <error id=1, errorCode=10197, errorMsg=No market data during competing live session>\n",
      "Server Error: <error id=1, errorCode=165, errorMsg=Historical Market Data Service query message:no items retrieved>\n",
      "Server Error: <error id=1, errorCode=165, errorMsg=Historical Market Data Service query message:no items retrieved>\n",
      "Server Error: <error id=1, errorCode=165, errorMsg=Historical Market Data Service query message:no items retrieved>\n",
      "Server Error: <error id=1, errorCode=165, errorMsg=Historical Market Data Service query message:no items retrieved>\n",
      "Server Error: <error id=1, errorCode=165, errorMsg=Historical Market Data Service query message:no items retrieved>\n",
      "Server Error: <error id=1, errorCode=165, errorMsg=Historical Market Data Service query message:no items retrieved>\n",
      "Server Error: <error id=1, errorCode=165, errorMsg=Historical Market Data Service query message:no items retrieved>\n",
      "Server Error: <error id=1, errorCode=165, errorMsg=Historical Market Data Service query message:no items retrieved>\n",
      "Server Error: <error id=1, errorCode=165, errorMsg=Historical Market Data Service query message:no items retrieved>\n",
      "Server Error: <error id=1, errorCode=165, errorMsg=Historical Market Data Service query message:no items retrieved>\n",
      "Server Error: <error id=1, errorCode=165, errorMsg=Historical Market Data Service query message:no items retrieved>\n",
      "Server Error: <error id=1, errorCode=165, errorMsg=Historical Market Data Service query message:no items retrieved>\n"
     ]
    }
   ],
   "source": [
    "tws_conn.register(Scanner, message.scannerData)\n",
    "tws_conn.reqScannerSubscription(1,scanSub)\n",
    "sleep(5)\n",
    "tws_conn.unregister(Scanner,message.scannerData)"
   ]
  },
  {
   "cell_type": "code",
   "execution_count": 9,
   "metadata": {},
   "outputs": [],
   "source": [
    "scanner = pd.DataFrame()\n",
    "scanner['Symbol'] = symbol\n",
    "scanner['SecType'] = sectype\n",
    "scanner['Exchange'] = exchange\n",
    "scanner['Currency'] = currency\n",
    "scanner.set_index('Symbol', inplace=True)"
   ]
  },
  {
   "cell_type": "code",
   "execution_count": 10,
   "metadata": {},
   "outputs": [
    {
     "data": {
      "text/html": [
       "<div>\n",
       "<style scoped>\n",
       "    .dataframe tbody tr th:only-of-type {\n",
       "        vertical-align: middle;\n",
       "    }\n",
       "\n",
       "    .dataframe tbody tr th {\n",
       "        vertical-align: top;\n",
       "    }\n",
       "\n",
       "    .dataframe thead th {\n",
       "        text-align: right;\n",
       "    }\n",
       "</style>\n",
       "<table border=\"1\" class=\"dataframe\">\n",
       "  <thead>\n",
       "    <tr style=\"text-align: right;\">\n",
       "      <th></th>\n",
       "      <th>SecType</th>\n",
       "      <th>Exchange</th>\n",
       "      <th>Currency</th>\n",
       "    </tr>\n",
       "    <tr>\n",
       "      <th>Symbol</th>\n",
       "      <th></th>\n",
       "      <th></th>\n",
       "      <th></th>\n",
       "    </tr>\n",
       "  </thead>\n",
       "  <tbody>\n",
       "  </tbody>\n",
       "</table>\n",
       "</div>"
      ],
      "text/plain": [
       "Empty DataFrame\n",
       "Columns: [SecType, Exchange, Currency]\n",
       "Index: []"
      ]
     },
     "execution_count": 10,
     "metadata": {},
     "output_type": "execute_result"
    },
    {
     "name": "stdout",
     "output_type": "stream",
     "text": [
      "Server Error: <error id=0, errorCode=165, errorMsg=Historical Market Data Service query message:no items retrieved>\n"
     ]
    }
   ],
   "source": [
    "scanner"
   ]
  },
  {
   "cell_type": "code",
   "execution_count": 11,
   "metadata": {},
   "outputs": [],
   "source": [
    "contracts = []\n",
    "for stock in scanner.index:\n",
    "    \n",
    "    contract = create_contract(symbol = stock,\n",
    "                   sec_type = scanner.loc[stock,'SecType'],\n",
    "                   exch = scanner.loc[stock,'Exchange'],\n",
    "                   curr = scanner.loc[stock,'Currency'])\n",
    "    contracts.append(contract)"
   ]
  },
  {
   "cell_type": "code",
   "execution_count": 12,
   "metadata": {},
   "outputs": [
    {
     "data": {
      "text/plain": [
       "[<ib.ext.Contract.Contract at 0x7f84fe21e278>,\n",
       " <ib.ext.Contract.Contract at 0x7f84fe21e2e8>,\n",
       " <ib.ext.Contract.Contract at 0x7f84fe21e358>,\n",
       " <ib.ext.Contract.Contract at 0x7f84fe21e3c8>,\n",
       " <ib.ext.Contract.Contract at 0x7f84fe21e438>,\n",
       " <ib.ext.Contract.Contract at 0x7f84fe21e4a8>,\n",
       " <ib.ext.Contract.Contract at 0x7f84fe21e518>,\n",
       " <ib.ext.Contract.Contract at 0x7f84fe21e588>,\n",
       " <ib.ext.Contract.Contract at 0x7f84fe21e5f8>,\n",
       " <ib.ext.Contract.Contract at 0x7f84fe21e668>]"
      ]
     },
     "execution_count": 12,
     "metadata": {},
     "output_type": "execute_result"
    },
    {
     "name": "stdout",
     "output_type": "stream",
     "text": [
      "Server Error: <error id=None, errorCode=None, errorMsg=>\n"
     ]
    }
   ],
   "source": [
    "contracts"
   ]
  },
  {
   "cell_type": "markdown",
   "metadata": {},
   "source": [
    "## Technical Data"
   ]
  },
  {
   "cell_type": "code",
   "execution_count": null,
   "metadata": {},
   "outputs": [],
   "source": []
  },
  {
   "cell_type": "code",
   "execution_count": 13,
   "metadata": {},
   "outputs": [],
   "source": [
    "technical = []\n",
    "for contract in contracts:\n",
    "    historical_data = pd.DataFrame(columns=['Date', 'Open', 'High', 'Low', 'Close', 'Volume'])\n",
    "    tws_conn.register(historical_data_handler, message.historicalData)\n",
    "    tws_conn.reqHistoricalData(0, contract,'','1 M','1 hour','TRADES',1,1)\n",
    "    sleep(5)\n",
    "\n",
    "    historical_data['RSI'] = talib.RSI(historical_data['Close'], timeperiod=14)\n",
    "    historical_data['Return'] = (historical_data['Close'] - historical_data['Close'].shift(1))/historical_data['Close']\n",
    "    historical_data['macd'], historical_data['macdsignal'], historical_data['macdhist'] = talib.MACDEXT(historical_data['Close'], fastperiod=12, fastmatype=1, slowperiod=26, slowmatype=1, signalperiod=9, signalmatype=1)\n",
    "    \n",
    "    technical.append(historical_data)\n",
    "    tws_conn.unregister(historical_data_handler, message.historicalData)"
   ]
  },
  {
   "cell_type": "code",
   "execution_count": 14,
   "metadata": {},
   "outputs": [
    {
     "data": {
      "text/plain": [
       "10"
      ]
     },
     "execution_count": 14,
     "metadata": {},
     "output_type": "execute_result"
    }
   ],
   "source": [
    "len(technical)"
   ]
  },
  {
   "cell_type": "code",
   "execution_count": 16,
   "metadata": {},
   "outputs": [
    {
     "data": {
      "text/html": [
       "<div>\n",
       "<style scoped>\n",
       "    .dataframe tbody tr th:only-of-type {\n",
       "        vertical-align: middle;\n",
       "    }\n",
       "\n",
       "    .dataframe tbody tr th {\n",
       "        vertical-align: top;\n",
       "    }\n",
       "\n",
       "    .dataframe thead th {\n",
       "        text-align: right;\n",
       "    }\n",
       "</style>\n",
       "<table border=\"1\" class=\"dataframe\">\n",
       "  <thead>\n",
       "    <tr style=\"text-align: right;\">\n",
       "      <th></th>\n",
       "      <th>Open</th>\n",
       "      <th>High</th>\n",
       "      <th>Low</th>\n",
       "      <th>Close</th>\n",
       "      <th>Volume</th>\n",
       "      <th>RSI</th>\n",
       "      <th>Return</th>\n",
       "      <th>macd</th>\n",
       "      <th>macdsignal</th>\n",
       "      <th>macdhist</th>\n",
       "    </tr>\n",
       "    <tr>\n",
       "      <th>Date</th>\n",
       "      <th></th>\n",
       "      <th></th>\n",
       "      <th></th>\n",
       "      <th></th>\n",
       "      <th></th>\n",
       "      <th></th>\n",
       "      <th></th>\n",
       "      <th></th>\n",
       "      <th></th>\n",
       "      <th></th>\n",
       "    </tr>\n",
       "  </thead>\n",
       "  <tbody>\n",
       "    <tr>\n",
       "      <th>20191010  13:00:00</th>\n",
       "      <td>152.54</td>\n",
       "      <td>153.13</td>\n",
       "      <td>152.29</td>\n",
       "      <td>152.97</td>\n",
       "      <td>74</td>\n",
       "      <td>41.178443</td>\n",
       "      <td>0.003792</td>\n",
       "      <td>-0.909491</td>\n",
       "      <td>-0.821520</td>\n",
       "      <td>-0.087971</td>\n",
       "    </tr>\n",
       "    <tr>\n",
       "      <th>20191010  14:00:00</th>\n",
       "      <td>153.09</td>\n",
       "      <td>153.58</td>\n",
       "      <td>152.68</td>\n",
       "      <td>152.68</td>\n",
       "      <td>53</td>\n",
       "      <td>39.833324</td>\n",
       "      <td>-0.001899</td>\n",
       "      <td>-0.909572</td>\n",
       "      <td>-0.839130</td>\n",
       "      <td>-0.070442</td>\n",
       "    </tr>\n",
       "    <tr>\n",
       "      <th>20191010  15:00:00</th>\n",
       "      <td>152.72</td>\n",
       "      <td>152.84</td>\n",
       "      <td>152.18</td>\n",
       "      <td>152.57</td>\n",
       "      <td>392</td>\n",
       "      <td>39.308807</td>\n",
       "      <td>-0.000721</td>\n",
       "      <td>-0.908045</td>\n",
       "      <td>-0.852913</td>\n",
       "      <td>-0.055132</td>\n",
       "    </tr>\n",
       "    <tr>\n",
       "      <th>20191011  09:30:00</th>\n",
       "      <td>153.06</td>\n",
       "      <td>154.29</td>\n",
       "      <td>152.21</td>\n",
       "      <td>152.71</td>\n",
       "      <td>198</td>\n",
       "      <td>40.384754</td>\n",
       "      <td>0.000917</td>\n",
       "      <td>-0.885333</td>\n",
       "      <td>-0.859397</td>\n",
       "      <td>-0.025935</td>\n",
       "    </tr>\n",
       "    <tr>\n",
       "      <th>20191011  10:00:00</th>\n",
       "      <td>152.69</td>\n",
       "      <td>155.00</td>\n",
       "      <td>152.68</td>\n",
       "      <td>153.95</td>\n",
       "      <td>203</td>\n",
       "      <td>49.007572</td>\n",
       "      <td>0.008055</td>\n",
       "      <td>-0.758531</td>\n",
       "      <td>-0.839224</td>\n",
       "      <td>0.080693</td>\n",
       "    </tr>\n",
       "    <tr>\n",
       "      <th>20191011  11:00:00</th>\n",
       "      <td>153.83</td>\n",
       "      <td>154.65</td>\n",
       "      <td>153.13</td>\n",
       "      <td>154.19</td>\n",
       "      <td>308</td>\n",
       "      <td>50.499927</td>\n",
       "      <td>0.001557</td>\n",
       "      <td>-0.631396</td>\n",
       "      <td>-0.797658</td>\n",
       "      <td>0.166263</td>\n",
       "    </tr>\n",
       "    <tr>\n",
       "      <th>20191011  12:00:00</th>\n",
       "      <td>153.90</td>\n",
       "      <td>154.74</td>\n",
       "      <td>153.68</td>\n",
       "      <td>154.74</td>\n",
       "      <td>93</td>\n",
       "      <td>53.834355</td>\n",
       "      <td>0.003554</td>\n",
       "      <td>-0.480718</td>\n",
       "      <td>-0.734270</td>\n",
       "      <td>0.253552</td>\n",
       "    </tr>\n",
       "    <tr>\n",
       "      <th>20191011  13:00:00</th>\n",
       "      <td>154.75</td>\n",
       "      <td>155.16</td>\n",
       "      <td>153.95</td>\n",
       "      <td>154.60</td>\n",
       "      <td>294</td>\n",
       "      <td>52.858290</td>\n",
       "      <td>-0.000906</td>\n",
       "      <td>-0.368356</td>\n",
       "      <td>-0.661087</td>\n",
       "      <td>0.292732</td>\n",
       "    </tr>\n",
       "    <tr>\n",
       "      <th>20191011  14:00:00</th>\n",
       "      <td>154.52</td>\n",
       "      <td>154.81</td>\n",
       "      <td>154.02</td>\n",
       "      <td>154.37</td>\n",
       "      <td>311</td>\n",
       "      <td>51.215416</td>\n",
       "      <td>-0.001490</td>\n",
       "      <td>-0.294473</td>\n",
       "      <td>-0.587764</td>\n",
       "      <td>0.293292</td>\n",
       "    </tr>\n",
       "    <tr>\n",
       "      <th>20191011  15:00:00</th>\n",
       "      <td>154.47</td>\n",
       "      <td>154.69</td>\n",
       "      <td>153.12</td>\n",
       "      <td>153.50</td>\n",
       "      <td>313</td>\n",
       "      <td>45.459764</td>\n",
       "      <td>-0.005668</td>\n",
       "      <td>-0.302633</td>\n",
       "      <td>-0.530738</td>\n",
       "      <td>0.228106</td>\n",
       "    </tr>\n",
       "  </tbody>\n",
       "</table>\n",
       "</div>"
      ],
      "text/plain": [
       "                      Open    High     Low   Close Volume        RSI  \\\n",
       "Date                                                                   \n",
       "20191010  13:00:00  152.54  153.13  152.29  152.97     74  41.178443   \n",
       "20191010  14:00:00  153.09  153.58  152.68  152.68     53  39.833324   \n",
       "20191010  15:00:00  152.72  152.84  152.18  152.57    392  39.308807   \n",
       "20191011  09:30:00  153.06  154.29  152.21  152.71    198  40.384754   \n",
       "20191011  10:00:00  152.69  155.00  152.68  153.95    203  49.007572   \n",
       "20191011  11:00:00  153.83  154.65  153.13  154.19    308  50.499927   \n",
       "20191011  12:00:00  153.90  154.74  153.68  154.74     93  53.834355   \n",
       "20191011  13:00:00  154.75  155.16  153.95  154.60    294  52.858290   \n",
       "20191011  14:00:00  154.52  154.81  154.02  154.37    311  51.215416   \n",
       "20191011  15:00:00  154.47  154.69  153.12  153.50    313  45.459764   \n",
       "\n",
       "                      Return      macd  macdsignal  macdhist  \n",
       "Date                                                          \n",
       "20191010  13:00:00  0.003792 -0.909491   -0.821520 -0.087971  \n",
       "20191010  14:00:00 -0.001899 -0.909572   -0.839130 -0.070442  \n",
       "20191010  15:00:00 -0.000721 -0.908045   -0.852913 -0.055132  \n",
       "20191011  09:30:00  0.000917 -0.885333   -0.859397 -0.025935  \n",
       "20191011  10:00:00  0.008055 -0.758531   -0.839224  0.080693  \n",
       "20191011  11:00:00  0.001557 -0.631396   -0.797658  0.166263  \n",
       "20191011  12:00:00  0.003554 -0.480718   -0.734270  0.253552  \n",
       "20191011  13:00:00 -0.000906 -0.368356   -0.661087  0.292732  \n",
       "20191011  14:00:00 -0.001490 -0.294473   -0.587764  0.293292  \n",
       "20191011  15:00:00 -0.005668 -0.302633   -0.530738  0.228106  "
      ]
     },
     "execution_count": 16,
     "metadata": {},
     "output_type": "execute_result"
    }
   ],
   "source": [
    "technical[0].tail(10)"
   ]
  },
  {
   "cell_type": "markdown",
   "metadata": {},
   "source": [
    "# Step 3: Apply Strategy"
   ]
  },
  {
   "cell_type": "code",
   "execution_count": null,
   "metadata": {},
   "outputs": [],
   "source": []
  },
  {
   "cell_type": "code",
   "execution_count": null,
   "metadata": {},
   "outputs": [],
   "source": []
  },
  {
   "cell_type": "code",
   "execution_count": null,
   "metadata": {},
   "outputs": [],
   "source": []
  },
  {
   "cell_type": "code",
   "execution_count": null,
   "metadata": {},
   "outputs": [],
   "source": []
  },
  {
   "cell_type": "markdown",
   "metadata": {},
   "source": [
    "# Step 4: Position Account"
   ]
  },
  {
   "cell_type": "code",
   "execution_count": 6,
   "metadata": {},
   "outputs": [],
   "source": [
    "positions = []"
   ]
  },
  {
   "cell_type": "code",
   "execution_count": 8,
   "metadata": {},
   "outputs": [
    {
     "data": {
      "text/plain": [
       "True"
      ]
     },
     "execution_count": 8,
     "metadata": {},
     "output_type": "execute_result"
    }
   ],
   "source": [
    "tws_conn.register(updatePortfolio, message.updatePortfolio)"
   ]
  },
  {
   "cell_type": "code",
   "execution_count": 9,
   "metadata": {},
   "outputs": [],
   "source": [
    "tws_conn.reqAccountUpdates(True,'DU1440139')"
   ]
  },
  {
   "cell_type": "code",
   "execution_count": 28,
   "metadata": {},
   "outputs": [
    {
     "name": "stdout",
     "output_type": "stream",
     "text": [
      "AAPL 10 237.25 220.76 164.9 0.0\n",
      "NVDA 20 186.55 184.7 37.0 0.0\n"
     ]
    }
   ],
   "source": [
    "contracts_pos = []\n",
    "for i in range(int(len(positions)/5)):\n",
    "    \n",
    "    print (positions[i].contract.m_symbol, positions[i].position, \n",
    "           np.round(positions[i].marketPrice, 2), positions[i].averageCost, \n",
    "           positions[i].unrealizedPNL, positions[i].realizedPNL)\n",
    "    \n",
    "    contracts_pos.append(positions[i].contract.m_symbol)"
   ]
  },
  {
   "cell_type": "code",
   "execution_count": 17,
   "metadata": {},
   "outputs": [
    {
     "data": {
      "text/plain": [
       "True"
      ]
     },
     "execution_count": 17,
     "metadata": {},
     "output_type": "execute_result"
    }
   ],
   "source": [
    "tws_conn.unregister(updatePortfolio, message.updatePortfolio)"
   ]
  },
  {
   "cell_type": "markdown",
   "metadata": {},
   "source": [
    "# Step 5: Placing Orders"
   ]
  },
  {
   "cell_type": "code",
   "execution_count": null,
   "metadata": {},
   "outputs": [],
   "source": [
    "order_id = None"
   ]
  },
  {
   "cell_type": "code",
   "execution_count": 26,
   "metadata": {},
   "outputs": [],
   "source": [
    "for contract in contracts:\n",
    "    if contract.m_symbol in contracts_pos:\n",
    "        pass\n",
    "    else:\n",
    "        order = create_order(order_type = 'MKT',\n",
    "                     quantity = 10, \n",
    "                     action = 'BUY')\n",
    "        \n",
    "        tws_conn.register(next_id, message.nextValidId)\n",
    "        tws_conn.reqIds(0)\n",
    "        tws_conn.placeOrder(order_id, contract, order)"
   ]
  },
  {
   "cell_type": "code",
   "execution_count": 27,
   "metadata": {},
   "outputs": [
    {
     "name": "stdout",
     "output_type": "stream",
     "text": [
      "Creating Order: \n",
      " Ticker:  AAPL\n",
      " SecType:  STK\n",
      " Exchange:  SMART\n",
      " primExchange:  NASDAQ\n",
      " Order Quantity:  10 \n",
      " Order Type:  MKT \n",
      " Order Action:  BUY\n"
     ]
    }
   ],
   "source": [
    "print ('Creating Order: ')\n",
    "print (' Ticker: ',contract.m_symbol)\n",
    "print (' SecType: ',contract.m_secType)\n",
    "print (' Exchange: ',contract.m_exchange)\n",
    "print (' primExchange: ',contract.m_primaryExch)\n",
    "print (' Order Quantity: ',order.m_totalQuantity,'\\n','Order Type: ', order.m_orderType,'\\n','Order Action: ',order.m_action)"
   ]
  },
  {
   "cell_type": "code",
   "execution_count": 15,
   "metadata": {},
   "outputs": [
    {
     "name": "stdout",
     "output_type": "stream",
     "text": [
      "Server Error: <error id=62, errorCode=399, errorMsg=Order Message:\n",
      "BUY 10 AAPL NASDAQ.NMS\n",
      "Warning: your order will not be placed at the exchange until 2019-10-02 09:30:00 US/Eastern>\n",
      "Server Error: <error id=62, errorCode=202, errorMsg=Order Canceled - reason:>\n"
     ]
    }
   ],
   "source": [
    "tws_conn.placeOrder(order_id, contract, order)"
   ]
  },
  {
   "cell_type": "markdown",
   "metadata": {},
   "source": [
    "# Disconnect"
   ]
  },
  {
   "cell_type": "code",
   "execution_count": 20,
   "metadata": {},
   "outputs": [
    {
     "data": {
      "text/plain": [
       "False"
      ]
     },
     "execution_count": 20,
     "metadata": {},
     "output_type": "execute_result"
    }
   ],
   "source": [
    "tws_conn.disconnect()"
   ]
  },
  {
   "cell_type": "code",
   "execution_count": null,
   "metadata": {},
   "outputs": [],
   "source": []
  }
 ],
 "metadata": {
  "kernelspec": {
   "display_name": "Python 3",
   "language": "python",
   "name": "python3"
  },
  "language_info": {
   "codemirror_mode": {
    "name": "ipython",
    "version": 3
   },
   "file_extension": ".py",
   "mimetype": "text/x-python",
   "name": "python",
   "nbconvert_exporter": "python",
   "pygments_lexer": "ipython3",
   "version": "3.6.8"
  }
 },
 "nbformat": 4,
 "nbformat_minor": 2
}
