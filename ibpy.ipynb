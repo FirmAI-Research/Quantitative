{
 "cells": [
  {
   "cell_type": "code",
   "execution_count": 1,
   "metadata": {},
   "outputs": [],
   "source": [
    "from ib.ext.Contract import Contract\n",
    "from ib.ext.ScannerSubscription import ScannerSubscription\n",
    "from ib.ext.ContractDetails import ContractDetails\n",
    "from ib.ext.Order import Order\n",
    "from ib.opt import Connection, message\n",
    "\n",
    "from time import sleep \n",
    "from datetime import datetime\n",
    "import pandas as pd\n",
    "# import backtrader as bt\n",
    "# import pytz, tzlocal\n",
    "from bs4 import BeautifulSoup\n",
    "import re\n",
    "from ibapi.ticktype import TickTypeEnum\n",
    "import talib"
   ]
  },
  {
   "cell_type": "code",
   "execution_count": 2,
   "metadata": {},
   "outputs": [],
   "source": [
    "def error_handler(msg):\n",
    "    \"\"\"Handles the capturing of error messages\"\"\"\n",
    "    print (\"Server Error: {}\".format(msg))\n",
    "\n",
    "def reply_handler(msg):\n",
    "    \"\"\"Handles of server replies\"\"\"\n",
    "    print (\"Server Response: {}, {}\".format(msg.typeName, msg))\n",
    "\n",
    "def next_id(msg):\n",
    "    global order_id\n",
    "    order_id = int(re.findall('\\d+', str(msg))[0])\n",
    "    \n",
    "    return order_id\n",
    "    \n",
    "def historical_data_handler(msg):  \n",
    "    global historical_data\n",
    "    \n",
    "    if ('finished' in str(msg.date)) == False:   \n",
    "        \n",
    "        historical_data.loc[len(historical_data)] = ([msg.date,\n",
    "                                                      msg.open, msg.high, msg.low, msg.close, msg.volume])\n",
    "    else:  \n",
    "        historical_data.set_index('Date',inplace=True)\n",
    "\n",
    "        \n",
    "def ReportsFinStatements(msg):\n",
    "    global annual\n",
    "    global quarter\n",
    "   \n",
    "    parser = BeautifulSoup(msg.data, 'lxml')\n",
    "\n",
    "    mapp = dict()\n",
    "    for item in parser.findAll('mapitem'):\n",
    "        mapp[item['coaitem']] = item.text\n",
    "        \n",
    "    \n",
    "    #ANNUAL\n",
    "    index = [];columns = []\n",
    "    for item in parser.findAll('annualperiods')[0].findAll('fiscalperiod'):\n",
    "        index.append(datetime.strptime(item['fiscalyear'], '%Y').year)\n",
    "    \n",
    "    for i in parser.findAll('annualperiods')[0].findAll('fiscalperiod')[0].findAll('lineitem'):\n",
    "        columns.append(mapp[i['coacode']])\n",
    "\n",
    "    annual = pd.DataFrame(index = index, columns = columns)\n",
    "    annual.index.name = 'Annual'\n",
    "    for item in parser.findAll('annualperiods')[0].findAll('fiscalperiod'):\n",
    "        for i in item.findAll('lineitem'):\n",
    "            try:\n",
    "                annual.loc[datetime.strptime(item['fiscalyear'], '%Y').year,mapp[i['coacode']]] = float(i.text)\n",
    "            except:\n",
    "                annual.loc[datetime.strptime(item['fiscalyear'], '%Y').year,mapp[i['coacode']]] = np.nan\n",
    "        \n",
    "    # QUARTER\n",
    "    index_q = [];columns_q = []\n",
    "    for item in parser.findAll('interimperiods')[0].findAll('fiscalperiod'):\n",
    "        index_q.append(datetime.strptime(item['enddate'], '%Y-%m-%d').date())\n",
    "    \n",
    "    for i in parser.findAll('interimperiods')[0].findAll('fiscalperiod')[0].findAll('lineitem'):\n",
    "        columns_q.append(mapp[i['coacode']])\n",
    "\n",
    "    quarter = pd.DataFrame(index = index_q, columns = columns_q)\n",
    "    quarter.index.name = 'Quarter'\n",
    "    for item in parser.findAll('interimperiods')[0].findAll('fiscalperiod'):\n",
    "        for i in item.findAll('lineitem'):\n",
    "            try:\n",
    "                quarter.loc[datetime.strptime(item['enddate'], '%Y-%m-%d').date(),mapp[i['coacode']]] = float(i.text)\n",
    "            except:\n",
    "                quarter.loc[datetime.strptime(item['enddate'], '%Y-%m-%d').date(),mapp[i['coacode']]] = np.nan\n",
    "\n",
    "\n",
    "def position_account(msg):\n",
    "    global account\n",
    "    account = msg\n",
    "\n",
    "def Scanner(msg):\n",
    "    global symbol\n",
    "    global sectype\n",
    "    global exchange\n",
    "    global currency\n",
    "        \n",
    "    symbol.append(msg.contractDetails.m_summary.m_symbol)\n",
    "    sectype.append(msg.contractDetails.m_summary.m_secType)\n",
    "    exchange.append(msg.contractDetails.m_summary.m_exchange)\n",
    "    currency.append(msg.contractDetails.m_summary.m_currency)\n",
    "\n",
    "def Analyst_Estimates(msg):\n",
    "    global resc\n",
    "    global resc_ann\n",
    "    global resc_q\n",
    "    \n",
    "    parser = BeautifulSoup(msg.data, 'lxml')\n",
    "    resc.iloc[:,0] = parser.find('name').text    \n",
    "    resc.iloc[:,1] = parser.find('exchange').text\n",
    "    resc.iloc[:,2] = parser.findAll('secid')[0].text\n",
    "    resc.iloc[:,3] = parser.findAll('sector')[0].text\n",
    "\n",
    "    resc.iloc[:,4] = parser.findAll('marketdataitem')[0].text\n",
    "    resc.iloc[:,5] = parser.findAll('marketdataitem')[1].text\n",
    "    resc.iloc[:,6] = parser.findAll('marketdataitem')[2].text\n",
    "    resc.iloc[:,7] = parser.findAll('marketdataitem')[3].text\n",
    "    resc.iloc[:,8] = parser.findAll('marketdataitem')[4].text\n",
    "    resc.iloc[:,9] = parser.findAll('fyactual')[0].text\n",
    "    \n",
    "    annual = [];columns = [];quarter = []\n",
    "    for item in parser.findAll('fyactual'):\n",
    "        columns.append(item['type'])\n",
    "        for per in item.findAll('fyperiod'):\n",
    "            if per['periodtype'] == 'A':\n",
    "                annual.append(per['fyear'])\n",
    "            if per['periodtype'] == 'Q':\n",
    "                quarter.append('{}-{}'.format(per['endcalyear'],per['endmonth']))\n",
    "    \n",
    "    index = list(set(annual))\n",
    "    index_q = list(set(quarter))\n",
    "    resc_ann = pd.DataFrame(index = index, columns = columns).sort_index(axis = 0,ascending = False)\n",
    "    resc_q = pd.DataFrame(index = index_q, columns = columns).sort_index(axis = 0,ascending = False)\n",
    "    \n",
    "    for item in parser.findAll('fyactual'):\n",
    "        for per in item.findAll('fyperiod'):\n",
    "            \n",
    "            if per['periodtype'] == 'Q':\n",
    "                try:\n",
    "                    resc_q.loc['{}-{}'.format(per['endcalyear'],per['endmonth']),item['type']] = float(per.find('actvalue').text)\n",
    "                except:\n",
    "                    resc_q.loc['{}-{}'.format(per['endcalyear'],per['endmonth']),item['type']] = np.nan  \n",
    "                    \n",
    "            if per['periodtype'] == 'A':\n",
    "                try:\n",
    "                    resc_ann.loc[per['fyear'],item['type']] = float(per.find('actvalue').text)\n",
    "                except:\n",
    "                    resc_ann.loc[per['fyear'],item['type']] = np.nan\n",
    "\n",
    "                    \n",
    "def ReportsFinSummary(msg):\n",
    "    global fin\n",
    "    \n",
    "    parser = BeautifulSoup(msg.data, 'lxml')\n",
    "    date_div = [];data_div = []\n",
    "    \n",
    "    for i in parser.findAll('dividendpershare'):\n",
    "        if i['period'] == '12M' and i['reporttype'] == 'TTM':\n",
    "            \n",
    "            date_div.append(i['asofdate'])\n",
    "            try:\n",
    "                data_div.append(float(i.text))\n",
    "            except:\n",
    "                data_div.append(np.nan)\n",
    "                \n",
    "    data_rev = []\n",
    "    for i in parser.findAll('totalrevenue'):\n",
    "        if i['period'] == '12M' and i['reporttype'] == 'TTM':\n",
    "            try:\n",
    "                data_rev.append(float(i.text))\n",
    "            except:\n",
    "                data_rev.append(np.nan)\n",
    "                \n",
    "    data_eps = []\n",
    "    for i in parser.findAll('eps'):\n",
    "        if i['period'] == '12M' and i['reporttype'] == 'TTM':\n",
    "            try:\n",
    "                data_eps.append(float(i.text))\n",
    "            except:\n",
    "                data_eps.append(np.nan)\n",
    "\n",
    "    fin = pd.DataFrame(index = date_div,\n",
    "                       data = {'Dividend Per Share(TTM)':data_div,\n",
    "                               'Total Revenue(TTM)':data_rev, \n",
    "                               'EPS(TTM)':data_eps}).sort_index(axis = 0,ascending = False)\n",
    "\n",
    "def ReportSnapshot(msg):\n",
    "    global business_summary\n",
    "    global brief\n",
    "    global snap\n",
    "    global address\n",
    "    global ratio\n",
    "    global estimate\n",
    "    \n",
    "    parser = BeautifulSoup(msg.data, 'lxml')\n",
    "    \n",
    "    business_summary = parser.findAll('text')[0].text\n",
    "    brief = parser.findAll('text')[1].text\n",
    "    address = '{},{},{},{}'.format(parser.find('contactinfo').find('streetaddress').text,\n",
    "                                   parser.find('contactinfo').find('city').text,\n",
    "                                   parser.find('contactinfo').find('state-region').text,\n",
    "                                   parser.find('contactinfo').find('country').text)\n",
    "    \n",
    "    snap = pd.DataFrame(index = [parser.findAll('coid')[1].text],\n",
    "                        data = {'Company Type': parser.find('cotype').text,\n",
    "                                'Desc':parser.findAll('issue')[0]['desc'],\n",
    "                                'Exchange': parser.findAll('exchange')[0].text,\n",
    "                                'Industry':parser.findAll('industry')[0].text,\n",
    "                                'Index':parser.find('indexconstituet').text})\n",
    "    dicted = {};dicted_est = {}\n",
    "    for i in range(len(parser.find('ratios').findAll('ratio'))):\n",
    "        try:\n",
    "            dicted[parser.find('ratios').findAll('ratio')[i]['fieldname']] = float(parser.find('ratios').findAll('ratio')[i].text)\n",
    "        except:\n",
    "            dicted[parser.find('ratios').findAll('ratio')[i]['fieldname']] = parser.find('ratios').findAll('ratio')[i].text\n",
    "            \n",
    "    ratio = pd.DataFrame(index = [parser.findAll('coid')[1].text], data = dicted)\n",
    "    \n",
    "    for i in range(len(parser.find('forecastdata').findAll('ratio'))):\n",
    "        try:\n",
    "            dicted_est[parser.find('forecastdata').findAll('ratio')[i]['fieldname']] = float(parser.find('forecastdata').findAll('ratio')[i].text)\n",
    "        except:\n",
    "            dicted_est[parser.find('forecastdata').findAll('ratio')[i]['fieldname']] = parser.find('forecastdata').findAll('ratio')[i].text\n",
    "            \n",
    "    estimate = pd.DataFrame(index = [parser.findAll('coid')[1].text], data = dicted_est)\n",
    "    \n",
    "def create_contract(symbol, sec_type, exch, prim_exch, curr):\n",
    "\n",
    "    contract = Contract()\n",
    "    contract.m_symbol = symbol\n",
    "    contract.m_secType = sec_type\n",
    "    contract.m_exchange = exch\n",
    "    contract.m_primaryExch = prim_exch\n",
    "    contract.m_currency = curr\n",
    "    \n",
    "    return contract\n",
    "\n",
    "def create_order(order_type, quantity, action):\n",
    "\n",
    "    order = Order()\n",
    "    order.m_orderType = order_type\n",
    "    order.m_totalQuantity = quantity\n",
    "    order.m_action = action\n",
    "    \n",
    "    return order\n",
    "\n",
    "def create_scanner(numberOfRows, instrument, locationCode, ScanCode, \n",
    "                   AbovePrice, marketCapAbove, AboveVolume):\n",
    "\n",
    "    scanSub = ScannerSubscription()\n",
    "    scanSub.numberOfRows(numberOfRows)\n",
    "    scanSub.m_instrument = instrument\n",
    "    scanSub.m_locationCode = locationCode\n",
    "    scanSub.m_scanCode = ScanCode\n",
    "    scanSub.m_abovePrice = AbovePrice\n",
    "    scanSub.m_marketCapAbove = marketCapAbove\n",
    "    scanSub.m_aboveVolume = AboveVolume\n",
    "    \n",
    "    return scanSub\n",
    "\n"
   ]
  },
  {
   "cell_type": "code",
   "execution_count": 3,
   "metadata": {},
   "outputs": [],
   "source": [
    "#price = pd.DataFrame(columns = ['Ticker Id','Field','Price'])\n",
    "#size = pd.DataFrame()\n",
    "#scan_param = None\n",
    "#tws_conn.register(ScannerParameters, message.scannerParameters)\n",
    "#tws_conn.register(mktdata, message.tickPrice)\n",
    "#tws_conn.reqMarketDataType(4) # switch to delayed frozen data if live is not available\n",
    "#tws_conn.reqMktData(0,contract,\"\",True)                    \n",
    "#tws_conn.reqScannerParameters()"
   ]
  },
  {
   "cell_type": "markdown",
   "metadata": {},
   "source": [
    "# Connecting to TWS"
   ]
  },
  {
   "cell_type": "code",
   "execution_count": 4,
   "metadata": {},
   "outputs": [
    {
     "name": "stdout",
     "output_type": "stream",
     "text": [
      "Server Version: 76\n",
      "TWS Time at connection:20191023 08:59:02 EST\n"
     ]
    },
    {
     "data": {
      "text/plain": [
       "True"
      ]
     },
     "execution_count": 4,
     "metadata": {},
     "output_type": "execute_result"
    }
   ],
   "source": [
    "tws_conn = Connection.create(host='127.0.0.1',port=7497, clientId=0)\n",
    "tws_conn.connect()"
   ]
  },
  {
   "cell_type": "code",
   "execution_count": 5,
   "metadata": {},
   "outputs": [
    {
     "data": {
      "text/plain": [
       "False"
      ]
     },
     "execution_count": 5,
     "metadata": {},
     "output_type": "execute_result"
    }
   ],
   "source": [
    "tws_conn.register(error_handler, 'Error')\n",
    "tws_conn.register(reply_handler)\n",
    "#tws_conn.unregister(error_handler, 'Error')\n",
    "#tws_conn.unregister(reply_handler)"
   ]
  },
  {
   "cell_type": "markdown",
   "metadata": {},
   "source": [
    "# Step 1 : Filtertation"
   ]
  },
  {
   "cell_type": "code",
   "execution_count": 6,
   "metadata": {},
   "outputs": [],
   "source": [
    "symbol = [];sectype = [];exchange = []; currency = []"
   ]
  },
  {
   "cell_type": "code",
   "execution_count": 7,
   "metadata": {},
   "outputs": [],
   "source": [
    "ScanCode = 'LOW_VS_52W_HL'\n",
    "scanSub = create_scanner(numberOfRows = 10, instrument = 'STK', \n",
    "                         locationCode = 'STK.US.MAJOR', ScanCode = ScanCode, \n",
    "                         AbovePrice = '100',marketCapAbove = '100000',\n",
    "                        AboveVolume = '1000')"
   ]
  },
  {
   "cell_type": "code",
   "execution_count": 8,
   "metadata": {},
   "outputs": [
    {
     "name": "stdout",
     "output_type": "stream",
     "text": [
      "Server Error: <error id=0, errorCode=165, errorMsg=Historical Market Data Service query message:no items retrieved>\n"
     ]
    },
    {
     "data": {
      "text/plain": [
       "True"
      ]
     },
     "execution_count": 8,
     "metadata": {},
     "output_type": "execute_result"
    }
   ],
   "source": [
    "tws_conn.register(Scanner, message.scannerData)\n",
    "tws_conn.reqScannerSubscription(0,scanSub)\n",
    "sleep(5)\n",
    "tws_conn.unregister(Scanner,message.scannerData)"
   ]
  },
  {
   "cell_type": "code",
   "execution_count": 9,
   "metadata": {},
   "outputs": [],
   "source": [
    "scanner = pd.DataFrame()\n",
    "scanner['Symbol'] = symbol\n",
    "scanner['SecType'] = sectype\n",
    "scanner['Exchange'] = exchange\n",
    "scanner['Currency'] = currency\n",
    "scanner.index.name = ScanCode "
   ]
  },
  {
   "cell_type": "code",
   "execution_count": 10,
   "metadata": {},
   "outputs": [
    {
     "data": {
      "text/html": [
       "<div>\n",
       "<style scoped>\n",
       "    .dataframe tbody tr th:only-of-type {\n",
       "        vertical-align: middle;\n",
       "    }\n",
       "\n",
       "    .dataframe tbody tr th {\n",
       "        vertical-align: top;\n",
       "    }\n",
       "\n",
       "    .dataframe thead th {\n",
       "        text-align: right;\n",
       "    }\n",
       "</style>\n",
       "<table border=\"1\" class=\"dataframe\">\n",
       "  <thead>\n",
       "    <tr style=\"text-align: right;\">\n",
       "      <th></th>\n",
       "      <th>Symbol</th>\n",
       "      <th>SecType</th>\n",
       "      <th>Exchange</th>\n",
       "      <th>Currency</th>\n",
       "    </tr>\n",
       "    <tr>\n",
       "      <th>LOW_VS_52W_HL</th>\n",
       "      <th></th>\n",
       "      <th></th>\n",
       "      <th></th>\n",
       "      <th></th>\n",
       "    </tr>\n",
       "  </thead>\n",
       "  <tbody>\n",
       "  </tbody>\n",
       "</table>\n",
       "</div>"
      ],
      "text/plain": [
       "Empty DataFrame\n",
       "Columns: [Symbol, SecType, Exchange, Currency]\n",
       "Index: []"
      ]
     },
     "execution_count": 10,
     "metadata": {},
     "output_type": "execute_result"
    }
   ],
   "source": [
    "scanner"
   ]
  },
  {
   "cell_type": "markdown",
   "metadata": {},
   "source": [
    "# Step 2 : Iterate over selceted tickers and collect data"
   ]
  },
  {
   "cell_type": "markdown",
   "metadata": {},
   "source": [
    "## ReportsFinStatements: Financial statements"
   ]
  },
  {
   "cell_type": "code",
   "execution_count": 11,
   "metadata": {},
   "outputs": [],
   "source": [
    "contract = create_contract(symbol = 'FB',\n",
    "                           sec_type = 'STK',\n",
    "                           exch = 'SMART',\n",
    "                           prim_exch = 'NASDAQ',\n",
    "                           curr = 'USD')"
   ]
  },
  {
   "cell_type": "code",
   "execution_count": 12,
   "metadata": {},
   "outputs": [
    {
     "name": "stdout",
     "output_type": "stream",
     "text": [
      "Server Error: <error id=0, errorCode=430, errorMsg=We are sorry, but fundamentals data for the security specified is not available.Not allowed>\n"
     ]
    },
    {
     "data": {
      "text/plain": [
       "True"
      ]
     },
     "execution_count": 12,
     "metadata": {},
     "output_type": "execute_result"
    }
   ],
   "source": [
    "annual = pd.DataFrame()\n",
    "quarter = pd.DataFrame()\n",
    "\n",
    "tws_conn.register(ReportsFinStatements, message.fundamentalData)\n",
    "tws_conn.reqFundamentalData(0,contract=contract,reportType='ReportsFinStatements')\n",
    "sleep(5)\n",
    "tws_conn.unregister(ReportsFinStatements, message.fundamentalData)"
   ]
  },
  {
   "cell_type": "markdown",
   "metadata": {},
   "source": [
    "## RESC: Analyst estimates"
   ]
  },
  {
   "cell_type": "code",
   "execution_count": 13,
   "metadata": {},
   "outputs": [
    {
     "name": "stdout",
     "output_type": "stream",
     "text": [
      "Server Error: <error id=0, errorCode=430, errorMsg=We are sorry, but fundamentals data for the security specified is not available.Not allowed>\n"
     ]
    },
    {
     "data": {
      "text/plain": [
       "True"
      ]
     },
     "execution_count": 13,
     "metadata": {},
     "output_type": "execute_result"
    }
   ],
   "source": [
    "resc = pd.DataFrame(index = [0],columns = ['Name', 'Exchange', 'Symbol', 'Sector', 'CLPRICE', 'SHARESOUT',\n",
    "                                          'MARKETCAP', '52WKHIGH', '52WKLOW','NAV'])\n",
    "\n",
    "resc_ann = pd.DataFrame()\n",
    "resc_q = pd.DataFrame()\n",
    "\n",
    "tws_conn.register(Analyst_Estimates, message.fundamentalData)\n",
    "tws_conn.reqFundamentalData(0,contract=contract,reportType='RESC')\n",
    "sleep(5)\n",
    "tws_conn.unregister(Analyst_Estimates, message.fundamentalData)"
   ]
  },
  {
   "cell_type": "markdown",
   "metadata": {},
   "source": [
    "## ReportsFinSummary: Financial summary"
   ]
  },
  {
   "cell_type": "code",
   "execution_count": 14,
   "metadata": {},
   "outputs": [
    {
     "name": "stderr",
     "output_type": "stream",
     "text": [
      "23-Oct-19 08:59:22 ERROR     Exception in message dispatch.  Handler 'ReportsFinSummary' for 'fundamentalData'\n",
      "Traceback (most recent call last):\n",
      "  File \"/usr/local/lib/python3.6/dist-packages/ib/opt/dispatcher.py\", line 44, in __call__\n",
      "    results.append(listener(message))\n",
      "  File \"<ipython-input-2-2ec9e9594457>\", line 169, in ReportsFinSummary\n",
      "    'EPS(TTM)':data_eps}).sort_index(axis = 0,ascending = False)\n",
      "  File \"/usr/local/lib/python3.6/dist-packages/pandas/core/frame.py\", line 330, in __init__\n",
      "    mgr = self._init_dict(data, index, columns, dtype=dtype)\n",
      "  File \"/usr/local/lib/python3.6/dist-packages/pandas/core/frame.py\", line 461, in _init_dict\n",
      "    return _arrays_to_mgr(arrays, data_names, index, columns, dtype=dtype)\n",
      "  File \"/usr/local/lib/python3.6/dist-packages/pandas/core/frame.py\", line 6173, in _arrays_to_mgr\n",
      "    return create_block_manager_from_arrays(arrays, arr_names, axes)\n",
      "  File \"/usr/local/lib/python3.6/dist-packages/pandas/core/internals.py\", line 4642, in create_block_manager_from_arrays\n",
      "    construction_error(len(arrays), arrays[0].shape, axes, e)\n",
      "  File \"/usr/local/lib/python3.6/dist-packages/pandas/core/internals.py\", line 4604, in construction_error\n",
      "    raise e\n",
      "  File \"/usr/local/lib/python3.6/dist-packages/pandas/core/internals.py\", line 4637, in create_block_manager_from_arrays\n",
      "    blocks = form_blocks(arrays, names, axes)\n",
      "  File \"/usr/local/lib/python3.6/dist-packages/pandas/core/internals.py\", line 4701, in form_blocks\n",
      "    float_blocks = _multi_blockify(float_items)\n",
      "  File \"/usr/local/lib/python3.6/dist-packages/pandas/core/internals.py\", line 4778, in _multi_blockify\n",
      "    values, placement = _stack_arrays(list(tup_block), dtype)\n",
      "  File \"/usr/local/lib/python3.6/dist-packages/pandas/core/internals.py\", line 4823, in _stack_arrays\n",
      "    stacked[i] = _asarray_compat(arr)\n",
      "ValueError: could not broadcast input array from shape (27) into shape (0)\n"
     ]
    },
    {
     "data": {
      "text/plain": [
       "True"
      ]
     },
     "execution_count": 14,
     "metadata": {},
     "output_type": "execute_result"
    }
   ],
   "source": [
    "fin = None\n",
    "tws_conn.register(ReportsFinSummary, message.fundamentalData)\n",
    "tws_conn.reqFundamentalData(0,contract=contract,reportType='ReportsFinSummary')\n",
    "sleep(5)\n",
    "tws_conn.unregister(ReportsFinSummary, message.fundamentalData)"
   ]
  },
  {
   "cell_type": "markdown",
   "metadata": {},
   "source": [
    "## ReportSnapshot: Company overview"
   ]
  },
  {
   "cell_type": "code",
   "execution_count": 15,
   "metadata": {},
   "outputs": [
    {
     "name": "stdout",
     "output_type": "stream",
     "text": [
      "Server Error: <error id=0, errorCode=430, errorMsg=We are sorry, but fundamentals data for the security specified is not available.Not allowed>\n"
     ]
    },
    {
     "data": {
      "text/plain": [
       "True"
      ]
     },
     "execution_count": 15,
     "metadata": {},
     "output_type": "execute_result"
    }
   ],
   "source": [
    "snap = pd.DataFrame()\n",
    "business_summary = None\n",
    "brief = None\n",
    "address = None\n",
    "ratio = pd.DataFrame()\n",
    "estimate = pd.DataFrame()\n",
    "\n",
    "tws_conn.register(ReportSnapshot, message.fundamentalData)\n",
    "tws_conn.reqFundamentalData(0,contract=contract,reportType='ReportSnapshot')\n",
    "sleep(5)\n",
    "tws_conn.unregister(ReportSnapshot, message.fundamentalData)"
   ]
  },
  {
   "cell_type": "markdown",
   "metadata": {},
   "source": [
    "# Display Data"
   ]
  },
  {
   "cell_type": "code",
   "execution_count": 16,
   "metadata": {},
   "outputs": [
    {
     "data": {
      "text/html": [
       "<div>\n",
       "<style scoped>\n",
       "    .dataframe tbody tr th:only-of-type {\n",
       "        vertical-align: middle;\n",
       "    }\n",
       "\n",
       "    .dataframe tbody tr th {\n",
       "        vertical-align: top;\n",
       "    }\n",
       "\n",
       "    .dataframe thead th {\n",
       "        text-align: right;\n",
       "    }\n",
       "</style>\n",
       "<table border=\"1\" class=\"dataframe\">\n",
       "  <thead>\n",
       "    <tr style=\"text-align: right;\">\n",
       "      <th></th>\n",
       "    </tr>\n",
       "  </thead>\n",
       "  <tbody>\n",
       "  </tbody>\n",
       "</table>\n",
       "</div>"
      ],
      "text/plain": [
       "Empty DataFrame\n",
       "Columns: []\n",
       "Index: []"
      ]
     },
     "execution_count": 16,
     "metadata": {},
     "output_type": "execute_result"
    }
   ],
   "source": [
    "snap"
   ]
  },
  {
   "cell_type": "code",
   "execution_count": 17,
   "metadata": {},
   "outputs": [],
   "source": [
    "business_summary"
   ]
  },
  {
   "cell_type": "code",
   "execution_count": 18,
   "metadata": {},
   "outputs": [],
   "source": [
    "address"
   ]
  },
  {
   "cell_type": "code",
   "execution_count": 19,
   "metadata": {},
   "outputs": [
    {
     "ename": "IndexError",
     "evalue": "index 0 is out of bounds for axis 0 with size 0",
     "output_type": "error",
     "traceback": [
      "\u001b[0;31m---------------------------------------------------------------------------\u001b[0m",
      "\u001b[0;31mIndexError\u001b[0m                                Traceback (most recent call last)",
      "\u001b[0;32m<ipython-input-19-1b06dfedfdc7>\u001b[0m in \u001b[0;36m<module>\u001b[0;34m\u001b[0m\n\u001b[0;32m----> 1\u001b[0;31m \u001b[0mquarter\u001b[0m\u001b[0;34m.\u001b[0m\u001b[0mloc\u001b[0m\u001b[0;34m[\u001b[0m\u001b[0mquarter\u001b[0m\u001b[0;34m.\u001b[0m\u001b[0mindex\u001b[0m\u001b[0;34m[\u001b[0m\u001b[0;36m0\u001b[0m\u001b[0;34m]\u001b[0m\u001b[0;34m,\u001b[0m\u001b[0;34m'Revenue'\u001b[0m\u001b[0;34m]\u001b[0m\u001b[0;34m\u001b[0m\u001b[0;34m\u001b[0m\u001b[0m\n\u001b[0m",
      "\u001b[0;32m/usr/local/lib/python3.6/dist-packages/pandas/core/indexes/base.py\u001b[0m in \u001b[0;36m__getitem__\u001b[0;34m(self, key)\u001b[0m\n\u001b[1;32m   1741\u001b[0m \u001b[0;34m\u001b[0m\u001b[0m\n\u001b[1;32m   1742\u001b[0m         \u001b[0;32mif\u001b[0m \u001b[0mis_scalar\u001b[0m\u001b[0;34m(\u001b[0m\u001b[0mkey\u001b[0m\u001b[0;34m)\u001b[0m\u001b[0;34m:\u001b[0m\u001b[0;34m\u001b[0m\u001b[0;34m\u001b[0m\u001b[0m\n\u001b[0;32m-> 1743\u001b[0;31m             \u001b[0;32mreturn\u001b[0m \u001b[0mgetitem\u001b[0m\u001b[0;34m(\u001b[0m\u001b[0mkey\u001b[0m\u001b[0;34m)\u001b[0m\u001b[0;34m\u001b[0m\u001b[0;34m\u001b[0m\u001b[0m\n\u001b[0m\u001b[1;32m   1744\u001b[0m \u001b[0;34m\u001b[0m\u001b[0m\n\u001b[1;32m   1745\u001b[0m         \u001b[0;32mif\u001b[0m \u001b[0misinstance\u001b[0m\u001b[0;34m(\u001b[0m\u001b[0mkey\u001b[0m\u001b[0;34m,\u001b[0m \u001b[0mslice\u001b[0m\u001b[0;34m)\u001b[0m\u001b[0;34m:\u001b[0m\u001b[0;34m\u001b[0m\u001b[0;34m\u001b[0m\u001b[0m\n",
      "\u001b[0;31mIndexError\u001b[0m: index 0 is out of bounds for axis 0 with size 0"
     ]
    },
    {
     "name": "stdout",
     "output_type": "stream",
     "text": [
      "Server Error: <error id=0, errorCode=165, errorMsg=Historical Market Data Service query message:no items retrieved>\n"
     ]
    }
   ],
   "source": [
    "quarter.loc[quarter.index[0],'Revenue']"
   ]
  },
  {
   "cell_type": "code",
   "execution_count": null,
   "metadata": {},
   "outputs": [],
   "source": [
    "int(datetime.strptime(str(quarter.index[0]), \"%Y-%m-%d\").timestamp())==int(datetime.strptime('20190831', '%Y%m%d').timestamp())"
   ]
  },
  {
   "cell_type": "code",
   "execution_count": 16,
   "metadata": {},
   "outputs": [
    {
     "ename": "NameError",
     "evalue": "name 'scanner' is not defined",
     "output_type": "error",
     "traceback": [
      "\u001b[0;31m---------------------------------------------------------------------------\u001b[0m",
      "\u001b[0;31mNameError\u001b[0m                                 Traceback (most recent call last)",
      "\u001b[0;32m<ipython-input-16-4e1255e06283>\u001b[0m in \u001b[0;36m<module>\u001b[0;34m\u001b[0m\n\u001b[0;32m----> 1\u001b[0;31m \u001b[0mscanner\u001b[0m\u001b[0;34m\u001b[0m\u001b[0;34m\u001b[0m\u001b[0m\n\u001b[0m",
      "\u001b[0;31mNameError\u001b[0m: name 'scanner' is not defined"
     ]
    }
   ],
   "source": [
    "scanner"
   ]
  },
  {
   "cell_type": "code",
   "execution_count": 17,
   "metadata": {},
   "outputs": [
    {
     "data": {
      "text/html": [
       "<div>\n",
       "<style scoped>\n",
       "    .dataframe tbody tr th:only-of-type {\n",
       "        vertical-align: middle;\n",
       "    }\n",
       "\n",
       "    .dataframe tbody tr th {\n",
       "        vertical-align: top;\n",
       "    }\n",
       "\n",
       "    .dataframe thead th {\n",
       "        text-align: right;\n",
       "    }\n",
       "</style>\n",
       "<table border=\"1\" class=\"dataframe\">\n",
       "  <thead>\n",
       "    <tr style=\"text-align: right;\">\n",
       "      <th></th>\n",
       "    </tr>\n",
       "  </thead>\n",
       "  <tbody>\n",
       "  </tbody>\n",
       "</table>\n",
       "</div>"
      ],
      "text/plain": [
       "Empty DataFrame\n",
       "Columns: []\n",
       "Index: []"
      ]
     },
     "execution_count": 17,
     "metadata": {},
     "output_type": "execute_result"
    }
   ],
   "source": [
    "annual"
   ]
  },
  {
   "cell_type": "code",
   "execution_count": 18,
   "metadata": {},
   "outputs": [
    {
     "data": {
      "text/html": [
       "<div>\n",
       "<style scoped>\n",
       "    .dataframe tbody tr th:only-of-type {\n",
       "        vertical-align: middle;\n",
       "    }\n",
       "\n",
       "    .dataframe tbody tr th {\n",
       "        vertical-align: top;\n",
       "    }\n",
       "\n",
       "    .dataframe thead th {\n",
       "        text-align: right;\n",
       "    }\n",
       "</style>\n",
       "<table border=\"1\" class=\"dataframe\">\n",
       "  <thead>\n",
       "    <tr style=\"text-align: right;\">\n",
       "      <th></th>\n",
       "    </tr>\n",
       "  </thead>\n",
       "  <tbody>\n",
       "  </tbody>\n",
       "</table>\n",
       "</div>"
      ],
      "text/plain": [
       "Empty DataFrame\n",
       "Columns: []\n",
       "Index: []"
      ]
     },
     "execution_count": 18,
     "metadata": {},
     "output_type": "execute_result"
    }
   ],
   "source": [
    "resc_ann"
   ]
  },
  {
   "cell_type": "code",
   "execution_count": 19,
   "metadata": {},
   "outputs": [
    {
     "data": {
      "text/html": [
       "<div>\n",
       "<style scoped>\n",
       "    .dataframe tbody tr th:only-of-type {\n",
       "        vertical-align: middle;\n",
       "    }\n",
       "\n",
       "    .dataframe tbody tr th {\n",
       "        vertical-align: top;\n",
       "    }\n",
       "\n",
       "    .dataframe thead th {\n",
       "        text-align: right;\n",
       "    }\n",
       "</style>\n",
       "<table border=\"1\" class=\"dataframe\">\n",
       "  <thead>\n",
       "    <tr style=\"text-align: right;\">\n",
       "      <th></th>\n",
       "    </tr>\n",
       "  </thead>\n",
       "  <tbody>\n",
       "  </tbody>\n",
       "</table>\n",
       "</div>"
      ],
      "text/plain": [
       "Empty DataFrame\n",
       "Columns: []\n",
       "Index: []"
      ]
     },
     "execution_count": 19,
     "metadata": {},
     "output_type": "execute_result"
    }
   ],
   "source": [
    "resc_q"
   ]
  },
  {
   "cell_type": "code",
   "execution_count": 20,
   "metadata": {},
   "outputs": [
    {
     "data": {
      "text/plain": [
       "nan"
      ]
     },
     "execution_count": 20,
     "metadata": {},
     "output_type": "execute_result"
    }
   ],
   "source": [
    "resc['Sector'][0]"
   ]
  },
  {
   "cell_type": "code",
   "execution_count": 21,
   "metadata": {},
   "outputs": [
    {
     "data": {
      "text/html": [
       "<div>\n",
       "<style scoped>\n",
       "    .dataframe tbody tr th:only-of-type {\n",
       "        vertical-align: middle;\n",
       "    }\n",
       "\n",
       "    .dataframe tbody tr th {\n",
       "        vertical-align: top;\n",
       "    }\n",
       "\n",
       "    .dataframe thead th {\n",
       "        text-align: right;\n",
       "    }\n",
       "</style>\n",
       "<table border=\"1\" class=\"dataframe\">\n",
       "  <thead>\n",
       "    <tr style=\"text-align: right;\">\n",
       "      <th></th>\n",
       "    </tr>\n",
       "  </thead>\n",
       "  <tbody>\n",
       "  </tbody>\n",
       "</table>\n",
       "</div>"
      ],
      "text/plain": [
       "Empty DataFrame\n",
       "Columns: []\n",
       "Index: []"
      ]
     },
     "execution_count": 21,
     "metadata": {},
     "output_type": "execute_result"
    }
   ],
   "source": [
    "ratio"
   ]
  },
  {
   "cell_type": "code",
   "execution_count": 22,
   "metadata": {},
   "outputs": [
    {
     "data": {
      "text/html": [
       "<div>\n",
       "<style scoped>\n",
       "    .dataframe tbody tr th:only-of-type {\n",
       "        vertical-align: middle;\n",
       "    }\n",
       "\n",
       "    .dataframe tbody tr th {\n",
       "        vertical-align: top;\n",
       "    }\n",
       "\n",
       "    .dataframe thead th {\n",
       "        text-align: right;\n",
       "    }\n",
       "</style>\n",
       "<table border=\"1\" class=\"dataframe\">\n",
       "  <thead>\n",
       "    <tr style=\"text-align: right;\">\n",
       "      <th></th>\n",
       "    </tr>\n",
       "  </thead>\n",
       "  <tbody>\n",
       "  </tbody>\n",
       "</table>\n",
       "</div>"
      ],
      "text/plain": [
       "Empty DataFrame\n",
       "Columns: []\n",
       "Index: []"
      ]
     },
     "execution_count": 22,
     "metadata": {},
     "output_type": "execute_result"
    }
   ],
   "source": [
    "estimate"
   ]
  },
  {
   "cell_type": "code",
   "execution_count": null,
   "metadata": {},
   "outputs": [],
   "source": []
  },
  {
   "cell_type": "markdown",
   "metadata": {},
   "source": [
    "## Technical Data"
   ]
  },
  {
   "cell_type": "code",
   "execution_count": 23,
   "metadata": {},
   "outputs": [],
   "source": [
    "historical_data = pd.DataFrame(columns=['Date', 'Open', 'High', 'Low', 'Close', 'Volume'])"
   ]
  },
  {
   "cell_type": "code",
   "execution_count": 29,
   "metadata": {},
   "outputs": [
    {
     "data": {
      "text/plain": [
       "True"
      ]
     },
     "execution_count": 29,
     "metadata": {},
     "output_type": "execute_result"
    }
   ],
   "source": [
    "tws_conn.register(historical_data_handler, message.historicalData)\n",
    "tws_conn.reqHistoricalData(0, contract,'','1 M','1 hour','TRADES',1,1)\n",
    "sleep(5)\n",
    "tws_conn.unregister(historical_data_handler, message.historicalData)"
   ]
  },
  {
   "cell_type": "code",
   "execution_count": 30,
   "metadata": {},
   "outputs": [],
   "source": [
    "historical_data['MA30'] = talib.SMA(historical_data['Close'], timeperiod=30)\n",
    "historical_data['MA10'] = talib.SMA(historical_data['Close'], timeperiod=10)\n",
    "historical_data['RSI'] = talib.RSI(historical_data['Close'], timeperiod=14)\n",
    "historical_data['Return'] = (historical_data['Close'] - historical_data['Close'].shift(1))/historical_data['Close']\n",
    "historical_data['macd'], historical_data['macdsignal'], historical_data['macdhist'] = talib.MACDEXT(historical_data['Close'], fastperiod=12, fastmatype=1, slowperiod=26, slowmatype=1, signalperiod=9, signalmatype=1)\n",
    "historical_data['Beta'] = talib.BETA(historical_data['High'],historical_data['Low'], timeperiod=5)\n",
    "\n"
   ]
  },
  {
   "cell_type": "code",
   "execution_count": 31,
   "metadata": {},
   "outputs": [
    {
     "data": {
      "text/html": [
       "<div>\n",
       "<style scoped>\n",
       "    .dataframe tbody tr th:only-of-type {\n",
       "        vertical-align: middle;\n",
       "    }\n",
       "\n",
       "    .dataframe tbody tr th {\n",
       "        vertical-align: top;\n",
       "    }\n",
       "\n",
       "    .dataframe thead th {\n",
       "        text-align: right;\n",
       "    }\n",
       "</style>\n",
       "<table border=\"1\" class=\"dataframe\">\n",
       "  <thead>\n",
       "    <tr style=\"text-align: right;\">\n",
       "      <th></th>\n",
       "      <th>Open</th>\n",
       "      <th>High</th>\n",
       "      <th>Low</th>\n",
       "      <th>Close</th>\n",
       "      <th>Volume</th>\n",
       "      <th>MA30</th>\n",
       "      <th>MA10</th>\n",
       "      <th>RSI</th>\n",
       "      <th>Return</th>\n",
       "      <th>macd</th>\n",
       "      <th>macdsignal</th>\n",
       "      <th>macdhist</th>\n",
       "      <th>Beta</th>\n",
       "    </tr>\n",
       "    <tr>\n",
       "      <th>Date</th>\n",
       "      <th></th>\n",
       "      <th></th>\n",
       "      <th></th>\n",
       "      <th></th>\n",
       "      <th></th>\n",
       "      <th></th>\n",
       "      <th></th>\n",
       "      <th></th>\n",
       "      <th></th>\n",
       "      <th></th>\n",
       "      <th></th>\n",
       "      <th></th>\n",
       "      <th></th>\n",
       "    </tr>\n",
       "  </thead>\n",
       "  <tbody>\n",
       "    <tr>\n",
       "      <th>20191010  13:00:00</th>\n",
       "      <td>229.89</td>\n",
       "      <td>229.92</td>\n",
       "      <td>229.10</td>\n",
       "      <td>229.74</td>\n",
       "      <td>16295</td>\n",
       "      <td>227.488000</td>\n",
       "      <td>228.470</td>\n",
       "      <td>64.126358</td>\n",
       "      <td>-0.000696</td>\n",
       "      <td>1.209469</td>\n",
       "      <td>0.985872</td>\n",
       "      <td>0.223597</td>\n",
       "      <td>0.156328</td>\n",
       "    </tr>\n",
       "    <tr>\n",
       "      <th>20191010  14:00:00</th>\n",
       "      <td>229.75</td>\n",
       "      <td>229.91</td>\n",
       "      <td>228.30</td>\n",
       "      <td>229.77</td>\n",
       "      <td>26596</td>\n",
       "      <td>227.615333</td>\n",
       "      <td>228.776</td>\n",
       "      <td>64.247424</td>\n",
       "      <td>0.000131</td>\n",
       "      <td>1.219492</td>\n",
       "      <td>1.032596</td>\n",
       "      <td>0.186896</td>\n",
       "      <td>2.048586</td>\n",
       "    </tr>\n",
       "    <tr>\n",
       "      <th>20191010  15:00:00</th>\n",
       "      <td>229.77</td>\n",
       "      <td>230.30</td>\n",
       "      <td>229.72</td>\n",
       "      <td>230.09</td>\n",
       "      <td>39154</td>\n",
       "      <td>227.741333</td>\n",
       "      <td>229.073</td>\n",
       "      <td>65.581709</td>\n",
       "      <td>0.001391</td>\n",
       "      <td>1.238974</td>\n",
       "      <td>1.073872</td>\n",
       "      <td>0.165102</td>\n",
       "      <td>2.467842</td>\n",
       "    </tr>\n",
       "    <tr>\n",
       "      <th>20191011  09:30:00</th>\n",
       "      <td>232.95</td>\n",
       "      <td>233.82</td>\n",
       "      <td>232.30</td>\n",
       "      <td>233.67</td>\n",
       "      <td>48011</td>\n",
       "      <td>227.967000</td>\n",
       "      <td>229.755</td>\n",
       "      <td>76.257254</td>\n",
       "      <td>0.015321</td>\n",
       "      <td>1.525703</td>\n",
       "      <td>1.164238</td>\n",
       "      <td>0.361465</td>\n",
       "      <td>0.784240</td>\n",
       "    </tr>\n",
       "    <tr>\n",
       "      <th>20191011  10:00:00</th>\n",
       "      <td>233.70</td>\n",
       "      <td>234.40</td>\n",
       "      <td>233.66</td>\n",
       "      <td>233.94</td>\n",
       "      <td>45068</td>\n",
       "      <td>228.198000</td>\n",
       "      <td>230.418</td>\n",
       "      <td>76.840688</td>\n",
       "      <td>0.001154</td>\n",
       "      <td>1.754499</td>\n",
       "      <td>1.282290</td>\n",
       "      <td>0.472209</td>\n",
       "      <td>0.712736</td>\n",
       "    </tr>\n",
       "    <tr>\n",
       "      <th>20191011  11:00:00</th>\n",
       "      <td>233.95</td>\n",
       "      <td>235.20</td>\n",
       "      <td>233.93</td>\n",
       "      <td>234.48</td>\n",
       "      <td>43546</td>\n",
       "      <td>228.445667</td>\n",
       "      <td>231.166</td>\n",
       "      <td>78.004822</td>\n",
       "      <td>0.002303</td>\n",
       "      <td>1.956838</td>\n",
       "      <td>1.417200</td>\n",
       "      <td>0.539638</td>\n",
       "      <td>0.700329</td>\n",
       "    </tr>\n",
       "    <tr>\n",
       "      <th>20191011  12:00:00</th>\n",
       "      <td>234.49</td>\n",
       "      <td>234.87</td>\n",
       "      <td>233.08</td>\n",
       "      <td>234.83</td>\n",
       "      <td>28129</td>\n",
       "      <td>228.648000</td>\n",
       "      <td>231.663</td>\n",
       "      <td>78.750390</td>\n",
       "      <td>0.001490</td>\n",
       "      <td>2.120986</td>\n",
       "      <td>1.557957</td>\n",
       "      <td>0.563029</td>\n",
       "      <td>0.709122</td>\n",
       "    </tr>\n",
       "    <tr>\n",
       "      <th>20191011  13:00:00</th>\n",
       "      <td>234.82</td>\n",
       "      <td>235.43</td>\n",
       "      <td>234.47</td>\n",
       "      <td>235.30</td>\n",
       "      <td>26290</td>\n",
       "      <td>228.844333</td>\n",
       "      <td>232.179</td>\n",
       "      <td>79.743372</td>\n",
       "      <td>0.001997</td>\n",
       "      <td>2.262914</td>\n",
       "      <td>1.698948</td>\n",
       "      <td>0.563966</td>\n",
       "      <td>0.735259</td>\n",
       "    </tr>\n",
       "    <tr>\n",
       "      <th>20191011  14:00:00</th>\n",
       "      <td>235.31</td>\n",
       "      <td>236.56</td>\n",
       "      <td>234.91</td>\n",
       "      <td>236.49</td>\n",
       "      <td>39656</td>\n",
       "      <td>229.080667</td>\n",
       "      <td>232.821</td>\n",
       "      <td>82.032696</td>\n",
       "      <td>0.005032</td>\n",
       "      <td>2.443252</td>\n",
       "      <td>1.847809</td>\n",
       "      <td>0.595443</td>\n",
       "      <td>0.970188</td>\n",
       "    </tr>\n",
       "    <tr>\n",
       "      <th>20191011  15:00:00</th>\n",
       "      <td>236.49</td>\n",
       "      <td>237.64</td>\n",
       "      <td>235.84</td>\n",
       "      <td>236.22</td>\n",
       "      <td>100029</td>\n",
       "      <td>229.292000</td>\n",
       "      <td>233.453</td>\n",
       "      <td>79.828256</td>\n",
       "      <td>-0.001143</td>\n",
       "      <td>2.535160</td>\n",
       "      <td>1.985279</td>\n",
       "      <td>0.549881</td>\n",
       "      <td>0.975254</td>\n",
       "    </tr>\n",
       "  </tbody>\n",
       "</table>\n",
       "</div>"
      ],
      "text/plain": [
       "                      Open    High     Low   Close  Volume        MA30  \\\n",
       "Date                                                                     \n",
       "20191010  13:00:00  229.89  229.92  229.10  229.74   16295  227.488000   \n",
       "20191010  14:00:00  229.75  229.91  228.30  229.77   26596  227.615333   \n",
       "20191010  15:00:00  229.77  230.30  229.72  230.09   39154  227.741333   \n",
       "20191011  09:30:00  232.95  233.82  232.30  233.67   48011  227.967000   \n",
       "20191011  10:00:00  233.70  234.40  233.66  233.94   45068  228.198000   \n",
       "20191011  11:00:00  233.95  235.20  233.93  234.48   43546  228.445667   \n",
       "20191011  12:00:00  234.49  234.87  233.08  234.83   28129  228.648000   \n",
       "20191011  13:00:00  234.82  235.43  234.47  235.30   26290  228.844333   \n",
       "20191011  14:00:00  235.31  236.56  234.91  236.49   39656  229.080667   \n",
       "20191011  15:00:00  236.49  237.64  235.84  236.22  100029  229.292000   \n",
       "\n",
       "                       MA10        RSI    Return      macd  macdsignal  \\\n",
       "Date                                                                     \n",
       "20191010  13:00:00  228.470  64.126358 -0.000696  1.209469    0.985872   \n",
       "20191010  14:00:00  228.776  64.247424  0.000131  1.219492    1.032596   \n",
       "20191010  15:00:00  229.073  65.581709  0.001391  1.238974    1.073872   \n",
       "20191011  09:30:00  229.755  76.257254  0.015321  1.525703    1.164238   \n",
       "20191011  10:00:00  230.418  76.840688  0.001154  1.754499    1.282290   \n",
       "20191011  11:00:00  231.166  78.004822  0.002303  1.956838    1.417200   \n",
       "20191011  12:00:00  231.663  78.750390  0.001490  2.120986    1.557957   \n",
       "20191011  13:00:00  232.179  79.743372  0.001997  2.262914    1.698948   \n",
       "20191011  14:00:00  232.821  82.032696  0.005032  2.443252    1.847809   \n",
       "20191011  15:00:00  233.453  79.828256 -0.001143  2.535160    1.985279   \n",
       "\n",
       "                    macdhist      Beta  \n",
       "Date                                    \n",
       "20191010  13:00:00  0.223597  0.156328  \n",
       "20191010  14:00:00  0.186896  2.048586  \n",
       "20191010  15:00:00  0.165102  2.467842  \n",
       "20191011  09:30:00  0.361465  0.784240  \n",
       "20191011  10:00:00  0.472209  0.712736  \n",
       "20191011  11:00:00  0.539638  0.700329  \n",
       "20191011  12:00:00  0.563029  0.709122  \n",
       "20191011  13:00:00  0.563966  0.735259  \n",
       "20191011  14:00:00  0.595443  0.970188  \n",
       "20191011  15:00:00  0.549881  0.975254  "
      ]
     },
     "execution_count": 31,
     "metadata": {},
     "output_type": "execute_result"
    },
    {
     "name": "stdout",
     "output_type": "stream",
     "text": [
      "Server Error: <error id=0, errorCode=165, errorMsg=Historical Market Data Service query message:no items retrieved>\n"
     ]
    }
   ],
   "source": [
    "historical_data.tail(10)"
   ]
  },
  {
   "cell_type": "markdown",
   "metadata": {},
   "source": [
    "# Step 3: Apply Strategy"
   ]
  },
  {
   "cell_type": "code",
   "execution_count": null,
   "metadata": {},
   "outputs": [],
   "source": []
  },
  {
   "cell_type": "code",
   "execution_count": null,
   "metadata": {},
   "outputs": [],
   "source": []
  },
  {
   "cell_type": "code",
   "execution_count": null,
   "metadata": {},
   "outputs": [],
   "source": []
  },
  {
   "cell_type": "code",
   "execution_count": null,
   "metadata": {},
   "outputs": [],
   "source": []
  },
  {
   "cell_type": "markdown",
   "metadata": {},
   "source": [
    "# Step 4: Position Account"
   ]
  },
  {
   "cell_type": "code",
   "execution_count": 27,
   "metadata": {},
   "outputs": [],
   "source": [
    "account = None"
   ]
  },
  {
   "cell_type": "code",
   "execution_count": 28,
   "metadata": {},
   "outputs": [
    {
     "data": {
      "text/plain": [
       "True"
      ]
     },
     "execution_count": 28,
     "metadata": {},
     "output_type": "execute_result"
    }
   ],
   "source": [
    "tws_conn.register(position_account, message.position)"
   ]
  },
  {
   "cell_type": "code",
   "execution_count": 29,
   "metadata": {},
   "outputs": [],
   "source": [
    "tws_conn.reqPositions()"
   ]
  },
  {
   "cell_type": "code",
   "execution_count": 30,
   "metadata": {},
   "outputs": [
    {
     "name": "stdout",
     "output_type": "stream",
     "text": [
      "<position account=DU1440139, contract=<ib.ext.Contract.Contract object at 0x7f136554a358>, pos=3500, avgCost=37.59385715>\n"
     ]
    }
   ],
   "source": [
    "print(account)"
   ]
  },
  {
   "cell_type": "markdown",
   "metadata": {},
   "source": [
    "# Step 5: Placing Orders"
   ]
  },
  {
   "cell_type": "code",
   "execution_count": null,
   "metadata": {},
   "outputs": [],
   "source": [
    "order_id = None"
   ]
  },
  {
   "cell_type": "code",
   "execution_count": null,
   "metadata": {},
   "outputs": [],
   "source": [
    "tws_conn.register(next_id, message.nextValidId)\n",
    "tws_conn.reqIds(0)"
   ]
  },
  {
   "cell_type": "code",
   "execution_count": 26,
   "metadata": {},
   "outputs": [],
   "source": [
    "order = create_order(order_type = 'MKT',\n",
    "                     quantity = 10, \n",
    "                     action = 'BUY')"
   ]
  },
  {
   "cell_type": "code",
   "execution_count": 27,
   "metadata": {},
   "outputs": [
    {
     "name": "stdout",
     "output_type": "stream",
     "text": [
      "Creating Order: \n",
      " Ticker:  AAPL\n",
      " SecType:  STK\n",
      " Exchange:  SMART\n",
      " primExchange:  NASDAQ\n",
      " Order Quantity:  10 \n",
      " Order Type:  MKT \n",
      " Order Action:  BUY\n"
     ]
    }
   ],
   "source": [
    "print ('Creating Order: ')\n",
    "print (' Ticker: ',contract.m_symbol)\n",
    "print (' SecType: ',contract.m_secType)\n",
    "print (' Exchange: ',contract.m_exchange)\n",
    "print (' primExchange: ',contract.m_primaryExch)\n",
    "print (' Order Quantity: ',order.m_totalQuantity,'\\n','Order Type: ', order.m_orderType,'\\n','Order Action: ',order.m_action)"
   ]
  },
  {
   "cell_type": "code",
   "execution_count": 15,
   "metadata": {},
   "outputs": [
    {
     "name": "stdout",
     "output_type": "stream",
     "text": [
      "Server Error: <error id=62, errorCode=399, errorMsg=Order Message:\n",
      "BUY 10 AAPL NASDAQ.NMS\n",
      "Warning: your order will not be placed at the exchange until 2019-10-02 09:30:00 US/Eastern>\n",
      "Server Error: <error id=62, errorCode=202, errorMsg=Order Canceled - reason:>\n"
     ]
    }
   ],
   "source": [
    "tws_conn.placeOrder(order_id, contract, order)"
   ]
  },
  {
   "cell_type": "markdown",
   "metadata": {},
   "source": [
    "# Disconnect"
   ]
  },
  {
   "cell_type": "code",
   "execution_count": 20,
   "metadata": {},
   "outputs": [
    {
     "data": {
      "text/plain": [
       "True"
      ]
     },
     "execution_count": 20,
     "metadata": {},
     "output_type": "execute_result"
    }
   ],
   "source": [
    "tws_conn.disconnect()"
   ]
  },
  {
   "cell_type": "code",
   "execution_count": null,
   "metadata": {},
   "outputs": [],
   "source": []
  }
 ],
 "metadata": {
  "kernelspec": {
   "display_name": "Python 3",
   "language": "python",
   "name": "python3"
  },
  "language_info": {
   "codemirror_mode": {
    "name": "ipython",
    "version": 3
   },
   "file_extension": ".py",
   "mimetype": "text/x-python",
   "name": "python",
   "nbconvert_exporter": "python",
   "pygments_lexer": "ipython3",
   "version": "3.6.8"
  }
 },
 "nbformat": 4,
 "nbformat_minor": 2
}
