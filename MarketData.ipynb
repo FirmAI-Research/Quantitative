{
 "cells": [
  {
   "cell_type": "code",
   "execution_count": 1,
   "metadata": {},
   "outputs": [],
   "source": [
    "from ibapi.client import EClient\n",
    "from ibapi.wrapper import EWrapper\n",
    "from ibapi.contract import Contract\n",
    "from ibapi.ticktype import TickTypeEnum\n",
    "from ibapi.order import Order\n",
    "import backtrader as bt\n",
    "import pytz, tzlocal\n",
    "from bs4 import BeautifulSoup\n",
    "import re\n",
    "from ibapi.ticktype import TickTypeEnum\n",
    "from datetime import datetime\n",
    "from time import sleep, strftime, localtime  \n",
    "\n",
    "import pandas as pd\n",
    "import numpy as np"
   ]
  },
  {
   "cell_type": "code",
   "execution_count": 2,
   "metadata": {},
   "outputs": [],
   "source": [
    "class TestApp(EWrapper, EClient):\n",
    "    \n",
    "    def __init__(self):\n",
    "        EClient.__init__(self,self)\n",
    "\n",
    "    def error(self, reqId, errorCode, errorString):\n",
    "        print ('Error: ', reqId, errorCode, ' ', errorString)\n",
    "        \n",
    "    def fundamentalData(self,reqId, data ):\n",
    "        global annual\n",
    "        global quarter\n",
    "   \n",
    "        parser = BeautifulSoup(data, 'lxml')\n",
    "\n",
    "        mapp = dict()\n",
    "        for item in parser.findAll('mapitem'):\n",
    "            mapp[item['coaitem']] = item.text\n",
    "        \n",
    "    \n",
    "        #ANNUAL\n",
    "        index = [];columns = []\n",
    "        for item in parser.findAll('annualperiods')[0].findAll('fiscalperiod'):\n",
    "            index.append(datetime.strptime(item['fiscalyear'], '%Y').year)\n",
    "    \n",
    "        for i in parser.findAll('annualperiods')[0].findAll('fiscalperiod')[0].findAll('lineitem'):\n",
    "            columns.append(mapp[i['coacode']])\n",
    "\n",
    "        annual = pd.DataFrame(index = index, columns = columns)\n",
    "        annual.index.name = 'Annual'\n",
    "        for item in parser.findAll('annualperiods')[0].findAll('fiscalperiod'):\n",
    "            for i in item.findAll('lineitem'):\n",
    "                try:\n",
    "                    annual.loc[datetime.strptime(item['fiscalyear'], '%Y').year,mapp[i['coacode']]] = float(i.text)\n",
    "                except:\n",
    "                    annual.loc[datetime.strptime(item['fiscalyear'], '%Y').year,mapp[i['coacode']]] = np.nan\n",
    "        \n",
    "        # QUARTER\n",
    "        index_q = [];columns_q = []\n",
    "        for item in parser.findAll('interimperiods')[0].findAll('fiscalperiod'):\n",
    "            index_q.append(datetime.strptime(item['enddate'], '%Y-%m-%d').date())\n",
    "    \n",
    "        for i in parser.findAll('interimperiods')[0].findAll('fiscalperiod')[0].findAll('lineitem'):\n",
    "            columns_q.append(mapp[i['coacode']])\n",
    "\n",
    "        quarter = pd.DataFrame(index = index_q, columns = columns_q)\n",
    "        quarter.index.name = 'Quarter'\n",
    "        for item in parser.findAll('interimperiods')[0].findAll('fiscalperiod'):\n",
    "            for i in item.findAll('lineitem'):\n",
    "                try:\n",
    "                    quarter.loc[datetime.strptime(item['enddate'], '%Y-%m-%d').date(),mapp[i['coacode']]] = float(i.text)\n",
    "                except:\n",
    "                    quarter.loc[datetime.strptime(item['enddate'], '%Y-%m-%d').date(),mapp[i['coacode']]] = np.nan\n",
    "    \n",
    "    \n",
    "#     def tickPrice(self,reqId, tickType, price, attrib):\n",
    "#         global df\n",
    "#         df = pd.DataFrame(data = [reqId, TickTypeEnum.to_str(tickType), price], index = ['Ticker Id','tickType','Price'])\n",
    "#         #print (df)\n",
    "#         #print ('Tick Price.','\\n','Ticker Id:', reqId,'\\n','tickType', TickTypeEnum.to_str(tickType),'\\n', 'Price', price,'\\n')\n",
    "\n",
    "#     def tickSize(self,reqId, tickType, size):\n",
    "        \n",
    "#         df2 = pd.DataFrame(data = [reqId, TickTypeEnum.to_str(tickType), size], index = ['Ticker Id','tickType','Size'])\n",
    "#         print ('Tick Size.','\\n','Ticker Id:', reqId,'\\n','tickType', TickTypeEnum.to_str(tickType),'\\n','Size', size,'\\n')\n",
    "        \n",
    "        \n",
    "    def nextValidId(self, orderId):\n",
    "        global orderid\n",
    "        self.nextValidId = orderId\n",
    "        orderid = orderId\n",
    "        self.start()\n"
   ]
  },
  {
   "cell_type": "code",
   "execution_count": 3,
   "metadata": {},
   "outputs": [],
   "source": [
    "def create_contract(symbol, sec_type, exch, prim_exch, curr):\n",
    "\n",
    "    contract = Contract()\n",
    "    contract.symbol = symbol\n",
    "    contract.secType = sec_type\n",
    "    contract.exchange = exch\n",
    "    contract.primaryExchange = prim_exch\n",
    "    contract.currency = curr\n",
    "    \n",
    "    return contract\n",
    "\n",
    "def create_order(orderId, order_type, quantity, action):\n",
    "\n",
    "    order = Order()\n",
    "    order.orderId\n",
    "    order.orderType = order_type\n",
    "    order.totalQuantity = quantity\n",
    "    order.action = action\n",
    "    \n",
    "    return order"
   ]
  },
  {
   "cell_type": "code",
   "execution_count": 4,
   "metadata": {},
   "outputs": [],
   "source": [
    "contract = create_contract(symbol = 'AAPL',\n",
    "                           sec_type = 'STK',\n",
    "                           exch = 'SMART',\n",
    "                           prim_exch = 'NASDAQ',\n",
    "                           curr = 'USD')"
   ]
  },
  {
   "cell_type": "code",
   "execution_count": 5,
   "metadata": {},
   "outputs": [],
   "source": [
    "# df = pd.DataFrame(index = ['Ticker Id','tickType','Price'])\n",
    "# orderid = None\n",
    "annual = pd.DataFrame()\n",
    "quarter = pd.DataFrame()"
   ]
  },
  {
   "cell_type": "code",
   "execution_count": 6,
   "metadata": {},
   "outputs": [],
   "source": [
    "app = TestApp()\n",
    "app.connect(host='127.0.0.1',port=7497, clientId=0)\n"
   ]
  },
  {
   "cell_type": "code",
   "execution_count": 7,
   "metadata": {},
   "outputs": [],
   "source": [
    "# app.reqMarketDataType(4) # switch to delayed frozen data if live is not available\n",
    "# app.reqMktData( reqId=0, \n",
    "#                 contract=contract, \n",
    "#                 genericTickList='', \n",
    "#                 snapshot=True, \n",
    "#                 regulatorySnapshot =False, \n",
    "#                 mktDataOptions=[])\n",
    "# app.reqIds(0)\n",
    "app.reqFundamentalData( reqId = 0,\n",
    "                        contract = contract,\n",
    "                        reportType = 'ReportsFinStatements',\n",
    "                        fundamentalDataOptions = []\n",
    "                        )   \n"
   ]
  },
  {
   "cell_type": "code",
   "execution_count": null,
   "metadata": {},
   "outputs": [
    {
     "name": "stdout",
     "output_type": "stream",
     "text": [
      "Error:  -1 2104   Market data farm connection is OK:eufarm\n",
      "Error:  -1 2104   Market data farm connection is OK:cashfarm\n",
      "Error:  -1 2104   Market data farm connection is OK:usfarm\n",
      "Error:  -1 2106   HMDS data farm connection is OK:fundfarm\n",
      "Error:  -1 2106   HMDS data farm connection is OK:ushmds\n",
      "Error:  -1 2158   Sec-def data farm connection is OK:secdefnj\n"
     ]
    }
   ],
   "source": [
    "app.run()"
   ]
  },
  {
   "cell_type": "code",
   "execution_count": 8,
   "metadata": {},
   "outputs": [],
   "source": [
    "order = create_order(order_type = 'MKT',\n",
    "                     quantity = 10, \n",
    "                     action = 'BUY')"
   ]
  },
  {
   "cell_type": "code",
   "execution_count": 9,
   "metadata": {},
   "outputs": [
    {
     "name": "stdout",
     "output_type": "stream",
     "text": [
      "Creating Order: \n",
      " Ticker:  AAPL\n",
      " SecType:  STK\n",
      " Exchange:  SMART\n",
      " primExchange:  NASDAQ\n",
      " Order Quantity:  10 \n",
      " Order Type:  MKT \n",
      " Order Action:  BUY\n"
     ]
    }
   ],
   "source": [
    "print ('Creating Order: ')\n",
    "print (' Ticker: ',contract.m_symbol)\n",
    "print (' SecType: ',contract.m_secType)\n",
    "print (' Exchange: ',contract.m_exchange)\n",
    "print (' primExchange: ',contract.m_primaryExch)\n",
    "print (' Order Quantity: ',order.m_totalQuantity,'\\n','Order Type: ', order.m_orderType,'\\n','Order Action: ',order.m_action)"
   ]
  },
  {
   "cell_type": "code",
   "execution_count": null,
   "metadata": {},
   "outputs": [],
   "source": []
  },
  {
   "cell_type": "code",
   "execution_count": null,
   "metadata": {},
   "outputs": [],
   "source": []
  },
  {
   "cell_type": "code",
   "execution_count": null,
   "metadata": {},
   "outputs": [],
   "source": []
  },
  {
   "cell_type": "code",
   "execution_count": null,
   "metadata": {},
   "outputs": [],
   "source": []
  },
  {
   "cell_type": "code",
   "execution_count": null,
   "metadata": {},
   "outputs": [],
   "source": []
  }
 ],
 "metadata": {
  "kernelspec": {
   "display_name": "Python 3",
   "language": "python",
   "name": "python3"
  },
  "language_info": {
   "codemirror_mode": {
    "name": "ipython",
    "version": 3
   },
   "file_extension": ".py",
   "mimetype": "text/x-python",
   "name": "python",
   "nbconvert_exporter": "python",
   "pygments_lexer": "ipython3",
   "version": "3.6.8"
  }
 },
 "nbformat": 4,
 "nbformat_minor": 2
}
